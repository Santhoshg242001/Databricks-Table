{
 "cells": [
  {
   "cell_type": "code",
   "execution_count": 0,
   "metadata": {
    "application/vnd.databricks.v1+cell": {
     "cellMetadata": {
      "byteLimit": 2048000,
      "rowLimit": 10000
     },
     "inputWidgets": {},
     "nuid": "942ec44f-6371-4727-812b-b740941d70b0",
     "showTitle": false,
     "title": ""
    }
   },
   "outputs": [
    {
     "output_type": "stream",
     "name": "stdout",
     "output_type": "stream",
     "text": [
      "Python interpreter will be restarted.\nCollecting dbldatagen\n  Downloading dbldatagen-0.3.5-py3-none-any.whl (86 kB)\nInstalling collected packages: dbldatagen\nSuccessfully installed dbldatagen-0.3.5\nPython interpreter will be restarted.\n"
     ]
    }
   ],
   "source": [
    "%pip install dbldatagen"
   ]
  },
  {
   "cell_type": "code",
   "execution_count": 0,
   "metadata": {
    "application/vnd.databricks.v1+cell": {
     "cellMetadata": {
      "byteLimit": 2048000,
      "rowLimit": 10000
     },
     "inputWidgets": {},
     "nuid": "ade679f6-be0c-4f3b-aca1-87fc81f50265",
     "showTitle": false,
     "title": ""
    }
   },
   "outputs": [
    {
     "output_type": "stream",
     "name": "stdout",
     "output_type": "stream",
     "text": [
      "Python interpreter will be restarted.\nCollecting Faker\n  Downloading Faker-19.6.2-py3-none-any.whl (1.7 MB)\nRequirement already satisfied: python-dateutil>=2.4 in /databricks/python3/lib/python3.9/site-packages (from Faker) (2.8.2)\nRequirement already satisfied: six>=1.5 in /databricks/python3/lib/python3.9/site-packages (from python-dateutil>=2.4->Faker) (1.16.0)\nInstalling collected packages: Faker\nSuccessfully installed Faker-19.6.2\nPython interpreter will be restarted.\n"
     ]
    }
   ],
   "source": [
    "%pip install Faker"
   ]
  },
  {
   "cell_type": "code",
   "execution_count": 0,
   "metadata": {
    "application/vnd.databricks.v1+cell": {
     "cellMetadata": {
      "byteLimit": 2048000,
      "rowLimit": 10000
     },
     "inputWidgets": {},
     "nuid": "3c692114-3fe1-4535-8e9f-a70b888c8043",
     "showTitle": false,
     "title": ""
    }
   },
   "outputs": [
    {
     "output_type": "display_data",
     "data": {
      "text/html": [
       "<style scoped>\n",
       "  .table-result-container {\n",
       "    max-height: 300px;\n",
       "    overflow: auto;\n",
       "  }\n",
       "  table, th, td {\n",
       "    border: 1px solid black;\n",
       "    border-collapse: collapse;\n",
       "  }\n",
       "  th, td {\n",
       "    padding: 5px;\n",
       "  }\n",
       "  th {\n",
       "    text-align: left;\n",
       "  }\n",
       "</style><div class='table-result-container'><table class='table-result'><thead style='background-color: white'><tr><th>tracking_id</th><th>awb_assigned_date</th><th>created_at</th><th>channel_name</th><th>sku_code</th><th>address_pincode</th><th>status</th><th>courier_company</th><th>pickup_scheduled_date</th><th>order_picked_up_date</th><th>order_shipped_date</th><th>edd</th><th>order_delivered_date</th><th>rto_initiated_date</th><th>rto_delivered_date</th><th>freight_total_amount</th><th>first_out_for_delivery_date</th><th>first_pickup_scheduled_date</th><th>1st_attempt_date</th><th>2nd_attempt_date</th><th>3rd_attempt_date</th><th>brand</th><th>dt</th></tr></thead><tbody><tr><td>1</td><td>2015-11-27T00:00:00.000+0000</td><td>2012-03-20T00:00:00.000+0000</td><td>full</td><td>39678683</td><td>39920</td><td>teach</td><td>Davis-Suarez</td><td>2014-10-12T00:00:00.000+0000</td><td>2014-07-09T00:00:00.000+0000</td><td>2012-06-29T00:00:00.000+0000</td><td>2011-05-17T00:00:00.000+0000</td><td>2023-05-02T00:00:00.000+0000</td><td>2012-03-06T00:00:00.000+0000</td><td>2012-02-05T00:00:00.000+0000</td><td>0</td><td>2016-01-23T00:00:00.000+0000</td><td>2015-07-19T00:00:00.000+0000</td><td>2011-08-07T00:00:00.000+0000</td><td>2023-10-07T00:00:00.000+0000</td><td>2022-06-18T00:00:00.000+0000</td><td>and Sons</td><td>raise</td></tr><tr><td>2</td><td>2020-07-09T00:00:00.000+0000</td><td>2012-12-10T00:00:00.000+0000</td><td>you</td><td>28022718</td><td>05737</td><td>season</td><td>Williamson and Sons</td><td>2017-03-17T00:00:00.000+0000</td><td>2018-08-27T00:00:00.000+0000</td><td>2022-08-02T00:00:00.000+0000</td><td>2018-04-10T00:00:00.000+0000</td><td>2015-02-10T00:00:00.000+0000</td><td>2015-06-26T00:00:00.000+0000</td><td>2021-02-27T00:00:00.000+0000</td><td>1</td><td>2013-11-08T00:00:00.000+0000</td><td>2021-10-17T00:00:00.000+0000</td><td>2015-04-07T00:00:00.000+0000</td><td>2023-11-27T00:00:00.000+0000</td><td>2013-04-20T00:00:00.000+0000</td><td>Group</td><td>authority</td></tr><tr><td>3</td><td>2023-07-19T00:00:00.000+0000</td><td>2021-10-09T00:00:00.000+0000</td><td>newspaper</td><td>65229941</td><td>13008</td><td>yourself</td><td>Griffin and Sons</td><td>2020-03-30T00:00:00.000+0000</td><td>2015-04-29T00:00:00.000+0000</td><td>2018-07-13T00:00:00.000+0000</td><td>2013-09-04T00:00:00.000+0000</td><td>2020-01-10T00:00:00.000+0000</td><td>2021-09-27T00:00:00.000+0000</td><td>2014-11-26T00:00:00.000+0000</td><td>2</td><td>2020-03-07T00:00:00.000+0000</td><td>2022-01-27T00:00:00.000+0000</td><td>2013-04-30T00:00:00.000+0000</td><td>2022-04-03T00:00:00.000+0000</td><td>2022-05-03T00:00:00.000+0000</td><td>Ltd</td><td>media</td></tr><tr><td>4</td><td>2022-08-20T00:00:00.000+0000</td><td>2021-02-12T00:00:00.000+0000</td><td>adult</td><td>63667158</td><td>37928</td><td>wind</td><td>Bender, Ashley and Bryant</td><td>2015-07-26T00:00:00.000+0000</td><td>2012-02-12T00:00:00.000+0000</td><td>2019-10-09T00:00:00.000+0000</td><td>2018-02-26T00:00:00.000+0000</td><td>2022-02-04T00:00:00.000+0000</td><td>2023-07-27T00:00:00.000+0000</td><td>2012-03-17T00:00:00.000+0000</td><td>3</td><td>2013-09-23T00:00:00.000+0000</td><td>2013-03-01T00:00:00.000+0000</td><td>2013-08-16T00:00:00.000+0000</td><td>2016-06-08T00:00:00.000+0000</td><td>2016-07-05T00:00:00.000+0000</td><td>and Sons</td><td>trouble</td></tr><tr><td>5</td><td>2020-10-28T00:00:00.000+0000</td><td>2010-02-09T00:00:00.000+0000</td><td>keep</td><td>62599207</td><td>07949</td><td>work</td><td>Harrington-Edwards</td><td>2011-12-14T00:00:00.000+0000</td><td>2010-09-23T00:00:00.000+0000</td><td>2016-10-23T00:00:00.000+0000</td><td>2016-06-21T00:00:00.000+0000</td><td>2016-08-21T00:00:00.000+0000</td><td>2011-04-05T00:00:00.000+0000</td><td>2011-07-25T00:00:00.000+0000</td><td>4</td><td>2014-06-25T00:00:00.000+0000</td><td>2017-07-25T00:00:00.000+0000</td><td>2013-07-01T00:00:00.000+0000</td><td>2013-01-13T00:00:00.000+0000</td><td>2022-01-15T00:00:00.000+0000</td><td>and Sons</td><td>citizen</td></tr><tr><td>6</td><td>2018-06-22T00:00:00.000+0000</td><td>2019-10-02T00:00:00.000+0000</td><td>behavior</td><td>97471516</td><td>60696</td><td>only</td><td>Gross-Perry</td><td>2013-08-30T00:00:00.000+0000</td><td>2012-11-01T00:00:00.000+0000</td><td>2020-03-09T00:00:00.000+0000</td><td>2010-08-09T00:00:00.000+0000</td><td>2022-09-09T00:00:00.000+0000</td><td>2020-11-17T00:00:00.000+0000</td><td>2021-08-24T00:00:00.000+0000</td><td>5</td><td>2013-08-15T00:00:00.000+0000</td><td>2023-06-10T00:00:00.000+0000</td><td>2019-09-09T00:00:00.000+0000</td><td>2014-04-13T00:00:00.000+0000</td><td>2014-10-05T00:00:00.000+0000</td><td>Inc</td><td>member</td></tr><tr><td>7</td><td>2011-03-26T00:00:00.000+0000</td><td>2017-02-27T00:00:00.000+0000</td><td>watch</td><td>31445078</td><td>27902</td><td>forward</td><td>Stafford Group</td><td>2014-05-03T00:00:00.000+0000</td><td>2018-05-02T00:00:00.000+0000</td><td>2012-04-09T00:00:00.000+0000</td><td>2021-01-21T00:00:00.000+0000</td><td>2022-05-02T00:00:00.000+0000</td><td>2020-06-04T00:00:00.000+0000</td><td>2021-04-29T00:00:00.000+0000</td><td>6</td><td>2015-11-24T00:00:00.000+0000</td><td>2019-06-17T00:00:00.000+0000</td><td>2012-09-12T00:00:00.000+0000</td><td>2015-03-09T00:00:00.000+0000</td><td>2018-05-01T00:00:00.000+0000</td><td>Inc</td><td>test</td></tr><tr><td>8</td><td>2015-09-05T00:00:00.000+0000</td><td>2019-11-16T00:00:00.000+0000</td><td>magazine</td><td>25755640</td><td>74437</td><td>carry</td><td>Strickland, Smith and Nielsen</td><td>2021-05-14T00:00:00.000+0000</td><td>2017-04-12T00:00:00.000+0000</td><td>2010-09-10T00:00:00.000+0000</td><td>2017-07-02T00:00:00.000+0000</td><td>2019-09-26T00:00:00.000+0000</td><td>2021-11-25T00:00:00.000+0000</td><td>2013-02-15T00:00:00.000+0000</td><td>7</td><td>2021-09-25T00:00:00.000+0000</td><td>2020-01-20T00:00:00.000+0000</td><td>2014-04-22T00:00:00.000+0000</td><td>2023-04-15T00:00:00.000+0000</td><td>2022-06-05T00:00:00.000+0000</td><td>and Sons</td><td>wonder</td></tr><tr><td>9</td><td>2017-03-24T00:00:00.000+0000</td><td>2012-06-15T00:00:00.000+0000</td><td>certainly</td><td>52192388</td><td>18865</td><td>first</td><td>Colon, Hunter and Morgan</td><td>2014-12-04T00:00:00.000+0000</td><td>2011-03-04T00:00:00.000+0000</td><td>2012-07-04T00:00:00.000+0000</td><td>2012-10-09T00:00:00.000+0000</td><td>2013-07-17T00:00:00.000+0000</td><td>2019-04-19T00:00:00.000+0000</td><td>2013-08-13T00:00:00.000+0000</td><td>8</td><td>2020-08-06T00:00:00.000+0000</td><td>2015-08-14T00:00:00.000+0000</td><td>2016-01-30T00:00:00.000+0000</td><td>2013-12-06T00:00:00.000+0000</td><td>2017-08-25T00:00:00.000+0000</td><td>Group</td><td>end</td></tr><tr><td>10</td><td>2011-06-17T00:00:00.000+0000</td><td>2011-12-22T00:00:00.000+0000</td><td>financial</td><td>07250583</td><td>18826</td><td>because</td><td>Thomas-Arnold</td><td>2018-11-19T00:00:00.000+0000</td><td>2015-06-03T00:00:00.000+0000</td><td>2017-01-30T00:00:00.000+0000</td><td>2022-04-14T00:00:00.000+0000</td><td>2023-09-02T00:00:00.000+0000</td><td>2011-07-21T00:00:00.000+0000</td><td>2022-03-19T00:00:00.000+0000</td><td>9</td><td>2013-01-28T00:00:00.000+0000</td><td>2018-10-01T00:00:00.000+0000</td><td>2019-04-14T00:00:00.000+0000</td><td>2021-03-11T00:00:00.000+0000</td><td>2018-06-11T00:00:00.000+0000</td><td>Ltd</td><td>room</td></tr></tbody></table></div>"
      ]
     },
     "metadata": {
      "application/vnd.databricks.v1+output": {
       "addedWidgets": {},
       "aggData": [],
       "aggError": "",
       "aggOverflow": false,
       "aggSchema": [],
       "aggSeriesLimitReached": false,
       "aggType": "",
       "arguments": {},
       "columnCustomDisplayInfos": {},
       "data": [
        [
         1,
         "2015-11-27T00:00:00.000+0000",
         "2012-03-20T00:00:00.000+0000",
         "full",
         "39678683",
         "39920",
         "teach",
         "Davis-Suarez",
         "2014-10-12T00:00:00.000+0000",
         "2014-07-09T00:00:00.000+0000",
         "2012-06-29T00:00:00.000+0000",
         "2011-05-17T00:00:00.000+0000",
         "2023-05-02T00:00:00.000+0000",
         "2012-03-06T00:00:00.000+0000",
         "2012-02-05T00:00:00.000+0000",
         0,
         "2016-01-23T00:00:00.000+0000",
         "2015-07-19T00:00:00.000+0000",
         "2011-08-07T00:00:00.000+0000",
         "2023-10-07T00:00:00.000+0000",
         "2022-06-18T00:00:00.000+0000",
         "and Sons",
         "raise"
        ],
        [
         2,
         "2020-07-09T00:00:00.000+0000",
         "2012-12-10T00:00:00.000+0000",
         "you",
         "28022718",
         "05737",
         "season",
         "Williamson and Sons",
         "2017-03-17T00:00:00.000+0000",
         "2018-08-27T00:00:00.000+0000",
         "2022-08-02T00:00:00.000+0000",
         "2018-04-10T00:00:00.000+0000",
         "2015-02-10T00:00:00.000+0000",
         "2015-06-26T00:00:00.000+0000",
         "2021-02-27T00:00:00.000+0000",
         1,
         "2013-11-08T00:00:00.000+0000",
         "2021-10-17T00:00:00.000+0000",
         "2015-04-07T00:00:00.000+0000",
         "2023-11-27T00:00:00.000+0000",
         "2013-04-20T00:00:00.000+0000",
         "Group",
         "authority"
        ],
        [
         3,
         "2023-07-19T00:00:00.000+0000",
         "2021-10-09T00:00:00.000+0000",
         "newspaper",
         "65229941",
         "13008",
         "yourself",
         "Griffin and Sons",
         "2020-03-30T00:00:00.000+0000",
         "2015-04-29T00:00:00.000+0000",
         "2018-07-13T00:00:00.000+0000",
         "2013-09-04T00:00:00.000+0000",
         "2020-01-10T00:00:00.000+0000",
         "2021-09-27T00:00:00.000+0000",
         "2014-11-26T00:00:00.000+0000",
         2,
         "2020-03-07T00:00:00.000+0000",
         "2022-01-27T00:00:00.000+0000",
         "2013-04-30T00:00:00.000+0000",
         "2022-04-03T00:00:00.000+0000",
         "2022-05-03T00:00:00.000+0000",
         "Ltd",
         "media"
        ],
        [
         4,
         "2022-08-20T00:00:00.000+0000",
         "2021-02-12T00:00:00.000+0000",
         "adult",
         "63667158",
         "37928",
         "wind",
         "Bender, Ashley and Bryant",
         "2015-07-26T00:00:00.000+0000",
         "2012-02-12T00:00:00.000+0000",
         "2019-10-09T00:00:00.000+0000",
         "2018-02-26T00:00:00.000+0000",
         "2022-02-04T00:00:00.000+0000",
         "2023-07-27T00:00:00.000+0000",
         "2012-03-17T00:00:00.000+0000",
         3,
         "2013-09-23T00:00:00.000+0000",
         "2013-03-01T00:00:00.000+0000",
         "2013-08-16T00:00:00.000+0000",
         "2016-06-08T00:00:00.000+0000",
         "2016-07-05T00:00:00.000+0000",
         "and Sons",
         "trouble"
        ],
        [
         5,
         "2020-10-28T00:00:00.000+0000",
         "2010-02-09T00:00:00.000+0000",
         "keep",
         "62599207",
         "07949",
         "work",
         "Harrington-Edwards",
         "2011-12-14T00:00:00.000+0000",
         "2010-09-23T00:00:00.000+0000",
         "2016-10-23T00:00:00.000+0000",
         "2016-06-21T00:00:00.000+0000",
         "2016-08-21T00:00:00.000+0000",
         "2011-04-05T00:00:00.000+0000",
         "2011-07-25T00:00:00.000+0000",
         4,
         "2014-06-25T00:00:00.000+0000",
         "2017-07-25T00:00:00.000+0000",
         "2013-07-01T00:00:00.000+0000",
         "2013-01-13T00:00:00.000+0000",
         "2022-01-15T00:00:00.000+0000",
         "and Sons",
         "citizen"
        ],
        [
         6,
         "2018-06-22T00:00:00.000+0000",
         "2019-10-02T00:00:00.000+0000",
         "behavior",
         "97471516",
         "60696",
         "only",
         "Gross-Perry",
         "2013-08-30T00:00:00.000+0000",
         "2012-11-01T00:00:00.000+0000",
         "2020-03-09T00:00:00.000+0000",
         "2010-08-09T00:00:00.000+0000",
         "2022-09-09T00:00:00.000+0000",
         "2020-11-17T00:00:00.000+0000",
         "2021-08-24T00:00:00.000+0000",
         5,
         "2013-08-15T00:00:00.000+0000",
         "2023-06-10T00:00:00.000+0000",
         "2019-09-09T00:00:00.000+0000",
         "2014-04-13T00:00:00.000+0000",
         "2014-10-05T00:00:00.000+0000",
         "Inc",
         "member"
        ],
        [
         7,
         "2011-03-26T00:00:00.000+0000",
         "2017-02-27T00:00:00.000+0000",
         "watch",
         "31445078",
         "27902",
         "forward",
         "Stafford Group",
         "2014-05-03T00:00:00.000+0000",
         "2018-05-02T00:00:00.000+0000",
         "2012-04-09T00:00:00.000+0000",
         "2021-01-21T00:00:00.000+0000",
         "2022-05-02T00:00:00.000+0000",
         "2020-06-04T00:00:00.000+0000",
         "2021-04-29T00:00:00.000+0000",
         6,
         "2015-11-24T00:00:00.000+0000",
         "2019-06-17T00:00:00.000+0000",
         "2012-09-12T00:00:00.000+0000",
         "2015-03-09T00:00:00.000+0000",
         "2018-05-01T00:00:00.000+0000",
         "Inc",
         "test"
        ],
        [
         8,
         "2015-09-05T00:00:00.000+0000",
         "2019-11-16T00:00:00.000+0000",
         "magazine",
         "25755640",
         "74437",
         "carry",
         "Strickland, Smith and Nielsen",
         "2021-05-14T00:00:00.000+0000",
         "2017-04-12T00:00:00.000+0000",
         "2010-09-10T00:00:00.000+0000",
         "2017-07-02T00:00:00.000+0000",
         "2019-09-26T00:00:00.000+0000",
         "2021-11-25T00:00:00.000+0000",
         "2013-02-15T00:00:00.000+0000",
         7,
         "2021-09-25T00:00:00.000+0000",
         "2020-01-20T00:00:00.000+0000",
         "2014-04-22T00:00:00.000+0000",
         "2023-04-15T00:00:00.000+0000",
         "2022-06-05T00:00:00.000+0000",
         "and Sons",
         "wonder"
        ],
        [
         9,
         "2017-03-24T00:00:00.000+0000",
         "2012-06-15T00:00:00.000+0000",
         "certainly",
         "52192388",
         "18865",
         "first",
         "Colon, Hunter and Morgan",
         "2014-12-04T00:00:00.000+0000",
         "2011-03-04T00:00:00.000+0000",
         "2012-07-04T00:00:00.000+0000",
         "2012-10-09T00:00:00.000+0000",
         "2013-07-17T00:00:00.000+0000",
         "2019-04-19T00:00:00.000+0000",
         "2013-08-13T00:00:00.000+0000",
         8,
         "2020-08-06T00:00:00.000+0000",
         "2015-08-14T00:00:00.000+0000",
         "2016-01-30T00:00:00.000+0000",
         "2013-12-06T00:00:00.000+0000",
         "2017-08-25T00:00:00.000+0000",
         "Group",
         "end"
        ],
        [
         10,
         "2011-06-17T00:00:00.000+0000",
         "2011-12-22T00:00:00.000+0000",
         "financial",
         "07250583",
         "18826",
         "because",
         "Thomas-Arnold",
         "2018-11-19T00:00:00.000+0000",
         "2015-06-03T00:00:00.000+0000",
         "2017-01-30T00:00:00.000+0000",
         "2022-04-14T00:00:00.000+0000",
         "2023-09-02T00:00:00.000+0000",
         "2011-07-21T00:00:00.000+0000",
         "2022-03-19T00:00:00.000+0000",
         9,
         "2013-01-28T00:00:00.000+0000",
         "2018-10-01T00:00:00.000+0000",
         "2019-04-14T00:00:00.000+0000",
         "2021-03-11T00:00:00.000+0000",
         "2018-06-11T00:00:00.000+0000",
         "Ltd",
         "room"
        ]
       ],
       "datasetInfos": [],
       "dbfsResultPath": null,
       "isJsonSchema": true,
       "metadata": {},
       "overflow": false,
       "plotOptions": {
        "customPlotOptions": {},
        "displayType": "table",
        "pivotAggregation": null,
        "pivotColumns": null,
        "xColumns": null,
        "yColumns": null
       },
       "removedWidgets": [],
       "schema": [
        {
         "metadata": "{}",
         "name": "tracking_id",
         "type": "\"integer\""
        },
        {
         "metadata": "{}",
         "name": "awb_assigned_date",
         "type": "\"timestamp\""
        },
        {
         "metadata": "{}",
         "name": "created_at",
         "type": "\"timestamp\""
        },
        {
         "metadata": "{}",
         "name": "channel_name",
         "type": "\"string\""
        },
        {
         "metadata": "{}",
         "name": "sku_code",
         "type": "\"string\""
        },
        {
         "metadata": "{}",
         "name": "address_pincode",
         "type": "\"string\""
        },
        {
         "metadata": "{}",
         "name": "status",
         "type": "\"string\""
        },
        {
         "metadata": "{}",
         "name": "courier_company",
         "type": "\"string\""
        },
        {
         "metadata": "{}",
         "name": "pickup_scheduled_date",
         "type": "\"timestamp\""
        },
        {
         "metadata": "{}",
         "name": "order_picked_up_date",
         "type": "\"timestamp\""
        },
        {
         "metadata": "{}",
         "name": "order_shipped_date",
         "type": "\"timestamp\""
        },
        {
         "metadata": "{}",
         "name": "edd",
         "type": "\"timestamp\""
        },
        {
         "metadata": "{}",
         "name": "order_delivered_date",
         "type": "\"timestamp\""
        },
        {
         "metadata": "{}",
         "name": "rto_initiated_date",
         "type": "\"timestamp\""
        },
        {
         "metadata": "{}",
         "name": "rto_delivered_date",
         "type": "\"timestamp\""
        },
        {
         "metadata": "{}",
         "name": "freight_total_amount",
         "type": "\"integer\""
        },
        {
         "metadata": "{}",
         "name": "first_out_for_delivery_date",
         "type": "\"timestamp\""
        },
        {
         "metadata": "{}",
         "name": "first_pickup_scheduled_date",
         "type": "\"timestamp\""
        },
        {
         "metadata": "{}",
         "name": "1st_attempt_date",
         "type": "\"timestamp\""
        },
        {
         "metadata": "{}",
         "name": "2nd_attempt_date",
         "type": "\"timestamp\""
        },
        {
         "metadata": "{}",
         "name": "3rd_attempt_date",
         "type": "\"timestamp\""
        },
        {
         "metadata": "{}",
         "name": "brand",
         "type": "\"string\""
        },
        {
         "metadata": "{}",
         "name": "dt",
         "type": "\"string\""
        }
       ],
       "type": "table"
      }
     },
     "output_type": "display_data"
    }
   ],
   "source": [
    "from dbldatagen import DataGenerator, PyfuncText, DateRange\n",
    "from faker import Faker\n",
    "from pyspark.sql import SparkSession\n",
    "from pyspark.sql.types import StructType, StructField, StringType, TimestampType, IntegerType\n",
    "\n",
    "# Create a SparkSession\n",
    "spark = SparkSession.builder.appName(\"DataGeneration\").getOrCreate()\n",
    "\n",
    "brand_values = [\"Brand1\", \"Brand2\", \"Brand3\", \"Brand4\", \"Brand5\"]\n",
    "courier_company_values = [\"CourierCo1\", \"CourierCo2\", \"CourierCo3\", \"CourierCo4\", \"CourierCo5\"]\n",
    "channel_name_values = [\"Channel1\", \"Channel2\", \"Channel3\", \"Channel4\", \"Channel5\"]\n",
    "\n",
    "# Define the number of rows and partitions for data generation\n",
    "partitions_requested = 2\n",
    "data_rows = 10\n",
    "\n",
    "# Define the schema for the synthetic data\n",
    "schema = StructType([\n",
    "    StructField(\"tracking_id\", IntegerType(), False),\n",
    "    StructField(\"awb_assigned_date\", TimestampType(), True),\n",
    "    StructField(\"created_at\", TimestampType(), True),\n",
    "    StructField(\"channel_name\", StringType(), True),\n",
    "    StructField(\"sku_code\", StringType(), True),\n",
    "    StructField(\"address_pincode\", StringType(), True),\n",
    "    StructField(\"status\", StringType(), True),\n",
    "    StructField(\"courier_company\", StringType(), True),\n",
    "    StructField(\"pickup_scheduled_date\", TimestampType(), True),\n",
    "    StructField(\"order_picked_up_date\", TimestampType(), True),\n",
    "    StructField(\"order_shipped_date\", TimestampType(), True),\n",
    "    StructField(\"edd\", TimestampType(), True),\n",
    "    StructField(\"order_delivered_date\", TimestampType(), True),\n",
    "    StructField(\"rto_initiated_date\", TimestampType(), True),\n",
    "    StructField(\"rto_delivered_date\", TimestampType(), True),\n",
    "    StructField(\"freight_total_amount\", IntegerType(), True),  # Use IntegerType() for integer columns\n",
    "    StructField(\"first_out_for_delivery_date\", TimestampType(), True),\n",
    "    StructField(\"first_pickup_scheduled_date\", TimestampType(), True),\n",
    "    StructField(\"1st_attempt_date\", TimestampType(), True),\n",
    "    StructField(\"2nd_attempt_date\", TimestampType(), True),\n",
    "    StructField(\"3rd_attempt_date\", TimestampType(), True),\n",
    "    StructField(\"brand\", StringType(), True),\n",
    "    StructField(\"dt\", StringType(), True)\n",
    "])\n",
    "\n",
    "# Create a DataGenerator for synthetic data generation\n",
    "shipping_data_generator = (\n",
    "    DataGenerator(spark, rows=data_rows, partitions=partitions_requested)\n",
    "    .withSchema(schema)\n",
    "    .withColumnSpec(\"tracking_id\", minValue=1, maxValue=2000, step=1)\n",
    "    .withColumnSpec(\"awb_assigned_date\", \"timestamp\", data_range=DateRange(\"2010-01-01 00:00:00\", \"2023-12-31 23:59:59\", \"days=1\"), random=True)\n",
    "    .withColumnSpec(\"created_at\", \"timestamp\", data_range=DateRange(\"2010-01-01 00:00:00\", \"2023-12-31 23:59:59\", \"days=1\"), random=True)\n",
    "    .withColumnSpec(\"channel_name\", text=PyfuncText(lambda context, v: Faker().word()))\n",
    "    .withColumnSpec(\"sku_code\", text=PyfuncText(lambda context, v: Faker().ean8()))\n",
    "    .withColumnSpec(\"address_pincode\", text=PyfuncText(lambda context, v: Faker().zipcode()))\n",
    "    .withColumnSpec(\"status\", text=PyfuncText(lambda context, v: Faker().word()))\n",
    "    .withColumnSpec(\"courier_company\", text=PyfuncText(lambda context, v: Faker().company()))\n",
    "    .withColumnSpec(\"pickup_scheduled_date\", \"timestamp\", data_range=DateRange(\"2010-01-01 00:00:00\", \"2023-12-31 23:59:59\", \"days=1\"), random=True)\n",
    "    .withColumnSpec(\"order_picked_up_date\", \"timestamp\", data_range=DateRange(\"2010-01-01 00:00:00\", \"2023-12-31 23:59:59\", \"days=1\"), random=True)\n",
    "    .withColumnSpec(\"order_shipped_date\", \"timestamp\", data_range=DateRange(\"2010-01-01 00:00:00\", \"2023-12-31 23:59:59\", \"days=1\"), random=True)\n",
    "    .withColumnSpec(\"edd\", \"timestamp\", data_range=DateRange(\"2010-01-01 00:00:00\", \"2023-12-31 23:59:59\", \"days=1\"), random=True)\n",
    "    .withColumnSpec(\"order_delivered_date\", \"timestamp\", data_range=DateRange(\"2010-01-01 00:00:00\", \"2023-12-31 23:59:59\", \"days=1\"), random=True)\n",
    "    .withColumnSpec(\"rto_initiated_date\", \"timestamp\", data_range=DateRange(\"2010-01-01 00:00:00\", \"2023-12-31 23:59:59\", \"days=1\"), random=True)\n",
    "    .withColumnSpec(\"rto_delivered_date\", \"timestamp\", data_range=DateRange(\"2010-01-01 00:00:00\", \"2023-12-31 23:59:59\", \"days=1\"), random=True)\n",
    "    .withColumnSpec(\"freight_total_amount\", text=PyfuncText(lambda context, v: str(Faker().random_int(min=1, max=1000))))\n",
    "    .withColumnSpec(\"first_out_for_delivery_date\", \"timestamp\", data_range=DateRange(\"2010-01-01 00:00:00\", \"2023-12-31 23:59:59\", \"days=1\"), random=True)\n",
    "    .withColumnSpec(\"first_pickup_scheduled_date\", \"timestamp\", data_range=DateRange(\"2010-01-01 00:00:00\", \"2023-12-31 23:59:59\", \"days=1\"), random=True)\n",
    "    .withColumnSpec(\"1st_attempt_date\", \"timestamp\", data_range=DateRange(\"2010-01-01 00:00:00\", \"2023-12-31 23:59:59\", \"days=1\"), random=True)\n",
    "    .withColumnSpec(\"2nd_attempt_date\", \"timestamp\", data_range=DateRange(\"2010-01-01 00:00:00\", \"2023-12-31 23:59:59\", \"days=1\"), random=True)\n",
    "    .withColumnSpec(\"3rd_attempt_date\", \"timestamp\", data_range=DateRange(\"2010-01-01 00:00:00\", \"2023-12-31 23:59:59\", \"days=1\"), random=True)\n",
    "    .withColumnSpec(\"brand\", text=PyfuncText(lambda context, v: Faker().company_suffix()))\n",
    "    .withColumnSpec(\"dt\", text=PyfuncText(lambda context, v: Faker().word()))\n",
    ")\n",
    "\n",
    "# Build the synthetic data DataFrame\n",
    "shipping_data = shipping_data_generator.build()\n",
    "\n",
    "# Display the first 10 rows of the generated data\n",
    "display(shipping_data.limit(10))\n"
   ]
  },
  {
   "cell_type": "code",
   "execution_count": 0,
   "metadata": {
    "application/vnd.databricks.v1+cell": {
     "cellMetadata": {},
     "inputWidgets": {},
     "nuid": "270adf28-9e4a-4631-8e84-c227a00c858b",
     "showTitle": false,
     "title": ""
    }
   },
   "outputs": [],
   "source": []
  }
 ],
 "metadata": {
  "application/vnd.databricks.v1+notebook": {
   "dashboards": [],
   "language": "python",
   "notebookMetadata": {
    "pythonIndentUnit": 4
   },
   "notebookName": "Logistics",
   "widgets": {}
  }
 },
 "nbformat": 4,
 "nbformat_minor": 0
}
