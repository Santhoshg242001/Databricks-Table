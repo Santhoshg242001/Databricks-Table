{
 "cells": [
  {
   "cell_type": "code",
   "execution_count": 0,
   "metadata": {
    "application/vnd.databricks.v1+cell": {
     "cellMetadata": {
      "byteLimit": 2048000,
      "rowLimit": 10000
     },
     "inputWidgets": {},
     "nuid": "eda5fd1d-e5cb-480a-9bbd-567bf9c637d5",
     "showTitle": false,
     "title": ""
    }
   },
   "outputs": [
    {
     "output_type": "stream",
     "name": "stdout",
     "output_type": "stream",
     "text": [
      "Python interpreter will be restarted.\nRequirement already satisfied: dbldatagen in /local_disk0/.ephemeral_nfs/envs/pythonEnv-12a4b501-d74b-4b4d-a791-cbecc4ffcc8a/lib/python3.9/site-packages (0.3.5)\nPython interpreter will be restarted.\n"
     ]
    }
   ],
   "source": [
    "%pip install dbldatagen"
   ]
  },
  {
   "cell_type": "code",
   "execution_count": 0,
   "metadata": {
    "application/vnd.databricks.v1+cell": {
     "cellMetadata": {
      "byteLimit": 2048000,
      "rowLimit": 10000
     },
     "inputWidgets": {},
     "nuid": "c241b230-3070-4f09-995b-30ce13ab71fa",
     "showTitle": false,
     "title": ""
    }
   },
   "outputs": [
    {
     "output_type": "stream",
     "name": "stdout",
     "output_type": "stream",
     "text": [
      "Python interpreter will be restarted.\nRequirement already satisfied: Faker in /local_disk0/.ephemeral_nfs/envs/pythonEnv-12a4b501-d74b-4b4d-a791-cbecc4ffcc8a/lib/python3.9/site-packages (19.6.2)\nRequirement already satisfied: python-dateutil>=2.4 in /databricks/python3/lib/python3.9/site-packages (from Faker) (2.8.2)\nRequirement already satisfied: six>=1.5 in /databricks/python3/lib/python3.9/site-packages (from python-dateutil>=2.4->Faker) (1.16.0)\nPython interpreter will be restarted.\n"
     ]
    }
   ],
   "source": [
    "%pip install Faker"
   ]
  },
  {
   "cell_type": "code",
   "execution_count": 0,
   "metadata": {
    "application/vnd.databricks.v1+cell": {
     "cellMetadata": {
      "byteLimit": 2048000,
      "rowLimit": 10000
     },
     "inputWidgets": {},
     "nuid": "f03ae891-073e-4d0a-ba11-39dbdf3bf823",
     "showTitle": false,
     "title": ""
    }
   },
   "outputs": [
    {
     "output_type": "display_data",
     "data": {
      "text/plain": [
       "\u001B[0;31m---------------------------------------------------------------------------\u001B[0m\n",
       "\u001B[0;31mAttributeError\u001B[0m                            Traceback (most recent call last)\n",
       "\u001B[0;32m<command-2246483205640141>\u001B[0m in \u001B[0;36m<cell line: 34>\u001B[0;34m()\u001B[0m\n",
       "\u001B[1;32m     42\u001B[0m     \u001B[0;34m.\u001B[0m\u001B[0mwithColumnSpec\u001B[0m\u001B[0;34m(\u001B[0m\u001B[0;34m\"price\"\u001B[0m\u001B[0;34m,\u001B[0m \u001B[0mrandom\u001B[0m\u001B[0;34m=\u001B[0m\u001B[0;32mTrue\u001B[0m\u001B[0;34m,\u001B[0m \u001B[0mtext\u001B[0m\u001B[0;34m=\u001B[0m\u001B[0mPyfuncText\u001B[0m\u001B[0;34m(\u001B[0m\u001B[0;32mlambda\u001B[0m \u001B[0mcontext\u001B[0m\u001B[0;34m,\u001B[0m \u001B[0mv\u001B[0m\u001B[0;34m:\u001B[0m \u001B[0mstr\u001B[0m\u001B[0;34m(\u001B[0m\u001B[0mround\u001B[0m\u001B[0;34m(\u001B[0m\u001B[0mrandom\u001B[0m\u001B[0;34m.\u001B[0m\u001B[0muniform\u001B[0m\u001B[0;34m(\u001B[0m\u001B[0;36m100\u001B[0m\u001B[0;34m,\u001B[0m \u001B[0;36m1000\u001B[0m\u001B[0;34m)\u001B[0m\u001B[0;34m,\u001B[0m \u001B[0;36m2\u001B[0m\u001B[0;34m)\u001B[0m\u001B[0;34m)\u001B[0m\u001B[0;34m)\u001B[0m\u001B[0;34m)\u001B[0m\u001B[0;34m\u001B[0m\u001B[0;34m\u001B[0m\u001B[0m\n",
       "\u001B[1;32m     43\u001B[0m     \u001B[0;34m.\u001B[0m\u001B[0mwithColumnSpec\u001B[0m\u001B[0;34m(\u001B[0m\u001B[0;34m\"created_at\"\u001B[0m\u001B[0;34m,\u001B[0m \u001B[0;34m\"timestamp\"\u001B[0m\u001B[0;34m,\u001B[0m \u001B[0mdata_range\u001B[0m\u001B[0;34m=\u001B[0m\u001B[0mDateRange\u001B[0m\u001B[0;34m(\u001B[0m\u001B[0;34m\"2010-01-01 00:00:00\"\u001B[0m\u001B[0;34m,\u001B[0m \u001B[0;34m\"2023-12-31 23:59:59\"\u001B[0m\u001B[0;34m,\u001B[0m \u001B[0;34m\"days=1\"\u001B[0m\u001B[0;34m)\u001B[0m\u001B[0;34m,\u001B[0m \u001B[0mrandom\u001B[0m\u001B[0;34m=\u001B[0m\u001B[0;32mTrue\u001B[0m\u001B[0;34m)\u001B[0m\u001B[0;34m\u001B[0m\u001B[0;34m\u001B[0m\u001B[0m\n",
       "\u001B[0;32m---> 44\u001B[0;31m     \u001B[0;34m.\u001B[0m\u001B[0mwithColumnSpec\u001B[0m\u001B[0;34m(\u001B[0m\u001B[0;34m\"updated_at\"\u001B[0m\u001B[0;34m,\u001B[0m \u001B[0;34m\"timestamp\"\u001B[0m\u001B[0;34m,\u001B[0m \u001B[0mdata_range\u001B[0m\u001B[0;34m=\u001B[0m\u001B[0mDateRange\u001B[0m\u001B[0;34m(\u001B[0m\u001B[0;32mlambda\u001B[0m \u001B[0mcontext\u001B[0m\u001B[0;34m,\u001B[0m \u001B[0mv\u001B[0m\u001B[0;34m:\u001B[0m \u001B[0mcontext\u001B[0m\u001B[0;34m[\u001B[0m\u001B[0;34m'created_at'\u001B[0m\u001B[0;34m]\u001B[0m\u001B[0;34m,\u001B[0m \u001B[0;34m\"2023-12-31 23:59:59\"\u001B[0m\u001B[0;34m,\u001B[0m \u001B[0;34m\"days=1\"\u001B[0m\u001B[0;34m)\u001B[0m\u001B[0;34m,\u001B[0m \u001B[0mrandom\u001B[0m\u001B[0;34m=\u001B[0m\u001B[0;32mTrue\u001B[0m\u001B[0;34m)\u001B[0m\u001B[0;34m\u001B[0m\u001B[0;34m\u001B[0m\u001B[0m\n",
       "\u001B[0m\u001B[1;32m     45\u001B[0m )\n",
       "\u001B[1;32m     46\u001B[0m \u001B[0;34m\u001B[0m\u001B[0m\n",
       "\n",
       "\u001B[0;32m/local_disk0/.ephemeral_nfs/envs/pythonEnv-d1656ed8-0b5f-4b00-a1ee-0f51a1fec5f5/lib/python3.9/site-packages/dbldatagen/daterange.py\u001B[0m in \u001B[0;36m__init__\u001B[0;34m(self, begin, end, interval, datetime_format)\u001B[0m\n",
       "\u001B[1;32m     49\u001B[0m         \u001B[0mself\u001B[0m\u001B[0;34m.\u001B[0m\u001B[0minterval\u001B[0m \u001B[0;34m=\u001B[0m \u001B[0minterval\u001B[0m \u001B[0;32mif\u001B[0m \u001B[0;32mnot\u001B[0m \u001B[0misinstance\u001B[0m\u001B[0;34m(\u001B[0m\u001B[0minterval\u001B[0m\u001B[0;34m,\u001B[0m \u001B[0mstr\u001B[0m\u001B[0;34m)\u001B[0m \u001B[0;32melse\u001B[0m \u001B[0mself\u001B[0m\u001B[0;34m.\u001B[0m\u001B[0m_timedelta_from_string\u001B[0m\u001B[0;34m(\u001B[0m\u001B[0minterval\u001B[0m\u001B[0;34m)\u001B[0m\u001B[0;34m\u001B[0m\u001B[0;34m\u001B[0m\u001B[0m\n",
       "\u001B[1;32m     50\u001B[0m \u001B[0;34m\u001B[0m\u001B[0m\n",
       "\u001B[0;32m---> 51\u001B[0;31m         \u001B[0mself\u001B[0m\u001B[0;34m.\u001B[0m\u001B[0mminValue\u001B[0m \u001B[0;34m=\u001B[0m \u001B[0mself\u001B[0m\u001B[0;34m.\u001B[0m\u001B[0mbegin\u001B[0m\u001B[0;34m.\u001B[0m\u001B[0mtimestamp\u001B[0m\u001B[0;34m(\u001B[0m\u001B[0;34m)\u001B[0m\u001B[0;34m\u001B[0m\u001B[0;34m\u001B[0m\u001B[0m\n",
       "\u001B[0m\u001B[1;32m     52\u001B[0m \u001B[0;34m\u001B[0m\u001B[0m\n",
       "\u001B[1;32m     53\u001B[0m         self.maxValue = (self.minValue + self.interval.total_seconds()\n",
       "\n",
       "\u001B[0;31mAttributeError\u001B[0m: 'function' object has no attribute 'timestamp'"
      ]
     },
     "metadata": {
      "application/vnd.databricks.v1+output": {
       "arguments": {},
       "data": "\u001B[0;31m---------------------------------------------------------------------------\u001B[0m\n\u001B[0;31mAttributeError\u001B[0m                            Traceback (most recent call last)\n\u001B[0;32m<command-2246483205640141>\u001B[0m in \u001B[0;36m<cell line: 34>\u001B[0;34m()\u001B[0m\n\u001B[1;32m     42\u001B[0m     \u001B[0;34m.\u001B[0m\u001B[0mwithColumnSpec\u001B[0m\u001B[0;34m(\u001B[0m\u001B[0;34m\"price\"\u001B[0m\u001B[0;34m,\u001B[0m \u001B[0mrandom\u001B[0m\u001B[0;34m=\u001B[0m\u001B[0;32mTrue\u001B[0m\u001B[0;34m,\u001B[0m \u001B[0mtext\u001B[0m\u001B[0;34m=\u001B[0m\u001B[0mPyfuncText\u001B[0m\u001B[0;34m(\u001B[0m\u001B[0;32mlambda\u001B[0m \u001B[0mcontext\u001B[0m\u001B[0;34m,\u001B[0m \u001B[0mv\u001B[0m\u001B[0;34m:\u001B[0m \u001B[0mstr\u001B[0m\u001B[0;34m(\u001B[0m\u001B[0mround\u001B[0m\u001B[0;34m(\u001B[0m\u001B[0mrandom\u001B[0m\u001B[0;34m.\u001B[0m\u001B[0muniform\u001B[0m\u001B[0;34m(\u001B[0m\u001B[0;36m100\u001B[0m\u001B[0;34m,\u001B[0m \u001B[0;36m1000\u001B[0m\u001B[0;34m)\u001B[0m\u001B[0;34m,\u001B[0m \u001B[0;36m2\u001B[0m\u001B[0;34m)\u001B[0m\u001B[0;34m)\u001B[0m\u001B[0;34m)\u001B[0m\u001B[0;34m)\u001B[0m\u001B[0;34m\u001B[0m\u001B[0;34m\u001B[0m\u001B[0m\n\u001B[1;32m     43\u001B[0m     \u001B[0;34m.\u001B[0m\u001B[0mwithColumnSpec\u001B[0m\u001B[0;34m(\u001B[0m\u001B[0;34m\"created_at\"\u001B[0m\u001B[0;34m,\u001B[0m \u001B[0;34m\"timestamp\"\u001B[0m\u001B[0;34m,\u001B[0m \u001B[0mdata_range\u001B[0m\u001B[0;34m=\u001B[0m\u001B[0mDateRange\u001B[0m\u001B[0;34m(\u001B[0m\u001B[0;34m\"2010-01-01 00:00:00\"\u001B[0m\u001B[0;34m,\u001B[0m \u001B[0;34m\"2023-12-31 23:59:59\"\u001B[0m\u001B[0;34m,\u001B[0m \u001B[0;34m\"days=1\"\u001B[0m\u001B[0;34m)\u001B[0m\u001B[0;34m,\u001B[0m \u001B[0mrandom\u001B[0m\u001B[0;34m=\u001B[0m\u001B[0;32mTrue\u001B[0m\u001B[0;34m)\u001B[0m\u001B[0;34m\u001B[0m\u001B[0;34m\u001B[0m\u001B[0m\n\u001B[0;32m---> 44\u001B[0;31m     \u001B[0;34m.\u001B[0m\u001B[0mwithColumnSpec\u001B[0m\u001B[0;34m(\u001B[0m\u001B[0;34m\"updated_at\"\u001B[0m\u001B[0;34m,\u001B[0m \u001B[0;34m\"timestamp\"\u001B[0m\u001B[0;34m,\u001B[0m \u001B[0mdata_range\u001B[0m\u001B[0;34m=\u001B[0m\u001B[0mDateRange\u001B[0m\u001B[0;34m(\u001B[0m\u001B[0;32mlambda\u001B[0m \u001B[0mcontext\u001B[0m\u001B[0;34m,\u001B[0m \u001B[0mv\u001B[0m\u001B[0;34m:\u001B[0m \u001B[0mcontext\u001B[0m\u001B[0;34m[\u001B[0m\u001B[0;34m'created_at'\u001B[0m\u001B[0;34m]\u001B[0m\u001B[0;34m,\u001B[0m \u001B[0;34m\"2023-12-31 23:59:59\"\u001B[0m\u001B[0;34m,\u001B[0m \u001B[0;34m\"days=1\"\u001B[0m\u001B[0;34m)\u001B[0m\u001B[0;34m,\u001B[0m \u001B[0mrandom\u001B[0m\u001B[0;34m=\u001B[0m\u001B[0;32mTrue\u001B[0m\u001B[0;34m)\u001B[0m\u001B[0;34m\u001B[0m\u001B[0;34m\u001B[0m\u001B[0m\n\u001B[0m\u001B[1;32m     45\u001B[0m )\n\u001B[1;32m     46\u001B[0m \u001B[0;34m\u001B[0m\u001B[0m\n\n\u001B[0;32m/local_disk0/.ephemeral_nfs/envs/pythonEnv-d1656ed8-0b5f-4b00-a1ee-0f51a1fec5f5/lib/python3.9/site-packages/dbldatagen/daterange.py\u001B[0m in \u001B[0;36m__init__\u001B[0;34m(self, begin, end, interval, datetime_format)\u001B[0m\n\u001B[1;32m     49\u001B[0m         \u001B[0mself\u001B[0m\u001B[0;34m.\u001B[0m\u001B[0minterval\u001B[0m \u001B[0;34m=\u001B[0m \u001B[0minterval\u001B[0m \u001B[0;32mif\u001B[0m \u001B[0;32mnot\u001B[0m \u001B[0misinstance\u001B[0m\u001B[0;34m(\u001B[0m\u001B[0minterval\u001B[0m\u001B[0;34m,\u001B[0m \u001B[0mstr\u001B[0m\u001B[0;34m)\u001B[0m \u001B[0;32melse\u001B[0m \u001B[0mself\u001B[0m\u001B[0;34m.\u001B[0m\u001B[0m_timedelta_from_string\u001B[0m\u001B[0;34m(\u001B[0m\u001B[0minterval\u001B[0m\u001B[0;34m)\u001B[0m\u001B[0;34m\u001B[0m\u001B[0;34m\u001B[0m\u001B[0m\n\u001B[1;32m     50\u001B[0m \u001B[0;34m\u001B[0m\u001B[0m\n\u001B[0;32m---> 51\u001B[0;31m         \u001B[0mself\u001B[0m\u001B[0;34m.\u001B[0m\u001B[0mminValue\u001B[0m \u001B[0;34m=\u001B[0m \u001B[0mself\u001B[0m\u001B[0;34m.\u001B[0m\u001B[0mbegin\u001B[0m\u001B[0;34m.\u001B[0m\u001B[0mtimestamp\u001B[0m\u001B[0;34m(\u001B[0m\u001B[0;34m)\u001B[0m\u001B[0;34m\u001B[0m\u001B[0;34m\u001B[0m\u001B[0m\n\u001B[0m\u001B[1;32m     52\u001B[0m \u001B[0;34m\u001B[0m\u001B[0m\n\u001B[1;32m     53\u001B[0m         self.maxValue = (self.minValue + self.interval.total_seconds()\n\n\u001B[0;31mAttributeError\u001B[0m: 'function' object has no attribute 'timestamp'",
       "errorSummary": "<span class='ansi-red-fg'>AttributeError</span>: 'function' object has no attribute 'timestamp'",
       "errorTraceType": "ansi",
       "metadata": {},
       "type": "ipynbError"
      }
     },
     "output_type": "display_data"
    }
   ],
   "source": [
    "from dbldatagen import DataGenerator, PyfuncText, DateRange\n",
    "from faker import Faker\n",
    "import random\n",
    "from pyspark.sql import SparkSession\n",
    "from pyspark.sql.types import StructType, StructField, StringType, TimestampType, IntegerType, DoubleType\n",
    "\n",
    "# Create a SparkSession\n",
    "spark = SparkSession.builder.appName(\"DataGeneration\").getOrCreate()\n",
    "\n",
    "brand_values = [\"Brand1\", \"Brand2\", \"Brand3\", \"Brand4\", \"Brand5\"]\n",
    "sub_brand_values = [\"SubBrand1\", \"SubBrand2\", \"SubBrand3\", \"SubBrand4\", \"SubBrand5\"]\n",
    "category_values = [\"Category1\", \"Category2\", \"Category3\", \"Category4\", \"Category5\"]\n",
    "sub_category_values = [\"SubCategory1\", \"SubCategory2\", \"SubCategory3\", \"SubCategory4\", \"SubCategory5\"]\n",
    "\n",
    "# Define the number of rows and partitions for data generation\n",
    "partitions_requested = 2\n",
    "data_rows = 10\n",
    "\n",
    "# Define the schema for the synthetic data\n",
    "schema = StructType([\n",
    "    StructField(\"item_id\", IntegerType(), False),\n",
    "    StructField(\"brand\", StringType(), True),\n",
    "    StructField(\"sub_brand\", StringType(), True),\n",
    "    StructField(\"category\", StringType(), True),\n",
    "    StructField(\"sub_category\", StringType(), True),\n",
    "    StructField(\"ean\", StringType(), True),\n",
    "    StructField(\"price\", DoubleType(), True),  # Use DoubleType() for price\n",
    "    StructField(\"created_at\", TimestampType(), True),\n",
    "    StructField(\"updated_at\", TimestampType(), True)\n",
    "])\n",
    "\n",
    "# Create a DataGenerator for synthetic data generation\n",
    "product_price_change_generator = (\n",
    "    DataGenerator(spark, rows=data_rows, partitions=partitions_requested)\n",
    "    .withSchema(schema)\n",
    "    .withColumnSpec(\"item_id\", minValue=1, maxValue=5000, step=1)\n",
    "    .withColumnSpec(\"brand\", text=PyfuncText(lambda context, v: random.choice(brand_values)))\n",
    "    .withColumnSpec(\"sub_brand\", text=PyfuncText(lambda context, v: random.choice(sub_brand_values)))\n",
    "    .withColumnSpec(\"category\", text=PyfuncText(lambda context, v: random.choice(category_values)))\n",
    "    .withColumnSpec(\"sub_category\", text=PyfuncText(lambda context, v: random.choice(sub_category_values)))\n",
    "    .withColumnSpec(\"ean\", text=PyfuncText(lambda context, v: Faker().ean8()))\n",
    "    .withColumnSpec(\"price\", random=True, text=PyfuncText(lambda context, v: str(round(random.uniform(100, 1000), 2))))\n",
    "    .withColumnSpec(\"created_at\", \"timestamp\", data_range=DateRange(\"2010-01-01 00:00:00\", \"2023-12-31 23:59:59\", \"days=1\"), random=True)\n",
    "    .withColumnSpec(\"updated_at\", \"timestamp\", data_range=DateRange(lambda context, v: context['created_at'], \"2023-12-31 23:59:59\", \"days=1\"), random=True)\n",
    ")\n",
    "\n",
    "# Build the synthetic data DataFrame\n",
    "product_price_change = product_price_change_generator.build()\n",
    "\n",
    "# Display the first 10 rows of the generated data\n",
    "display(product_price_change.limit(10))\n"
   ]
  },
  {
   "cell_type": "code",
   "execution_count": 0,
   "metadata": {
    "application/vnd.databricks.v1+cell": {
     "cellMetadata": {
      "byteLimit": 2048000,
      "rowLimit": 10000
     },
     "inputWidgets": {},
     "nuid": "cd32131f-b44c-48d3-ba87-82d0d00002c4",
     "showTitle": false,
     "title": ""
    }
   },
   "outputs": [
    {
     "output_type": "display_data",
     "data": {
      "text/plain": [
       "\u001B[0;31m---------------------------------------------------------------------------\u001B[0m\n",
       "\u001B[0;31mTypeError\u001B[0m                                 Traceback (most recent call last)\n",
       "\u001B[0;32m<command-2246483205640142>\u001B[0m in \u001B[0;36m<cell line: 42>\u001B[0;34m()\u001B[0m\n",
       "\u001B[1;32m     50\u001B[0m     \u001B[0;34m.\u001B[0m\u001B[0mwithColumnSpec\u001B[0m\u001B[0;34m(\u001B[0m\u001B[0;34m\"price\"\u001B[0m\u001B[0;34m,\u001B[0m \u001B[0mrandom\u001B[0m\u001B[0;34m=\u001B[0m\u001B[0;32mTrue\u001B[0m\u001B[0;34m,\u001B[0m \u001B[0mtext\u001B[0m\u001B[0;34m=\u001B[0m\u001B[0mPyfuncText\u001B[0m\u001B[0;34m(\u001B[0m\u001B[0;32mlambda\u001B[0m \u001B[0mcontext\u001B[0m\u001B[0;34m,\u001B[0m \u001B[0mv\u001B[0m\u001B[0;34m:\u001B[0m \u001B[0mstr\u001B[0m\u001B[0;34m(\u001B[0m\u001B[0mround\u001B[0m\u001B[0;34m(\u001B[0m\u001B[0mrandom\u001B[0m\u001B[0;34m.\u001B[0m\u001B[0muniform\u001B[0m\u001B[0;34m(\u001B[0m\u001B[0;36m10\u001B[0m\u001B[0;34m,\u001B[0m \u001B[0;36m1000\u001B[0m\u001B[0;34m)\u001B[0m\u001B[0;34m,\u001B[0m \u001B[0;36m2\u001B[0m\u001B[0;34m)\u001B[0m\u001B[0;34m)\u001B[0m\u001B[0;34m)\u001B[0m\u001B[0;34m)\u001B[0m\u001B[0;34m\u001B[0m\u001B[0;34m\u001B[0m\u001B[0m\n",
       "\u001B[1;32m     51\u001B[0m     \u001B[0;34m.\u001B[0m\u001B[0mwithColumnSpec\u001B[0m\u001B[0;34m(\u001B[0m\u001B[0;34m\"created_at\"\u001B[0m\u001B[0;34m,\u001B[0m \u001B[0;34m\"timestamp\"\u001B[0m\u001B[0;34m,\u001B[0m \u001B[0mdata_range\u001B[0m\u001B[0;34m=\u001B[0m\u001B[0mDateRange\u001B[0m\u001B[0;34m(\u001B[0m\u001B[0;34m\"2010-01-01 00:00:00\"\u001B[0m\u001B[0;34m,\u001B[0m \u001B[0;34m\"2023-12-31 23:59:59\"\u001B[0m\u001B[0;34m,\u001B[0m \u001B[0;34m\"days=1\"\u001B[0m\u001B[0;34m)\u001B[0m\u001B[0;34m,\u001B[0m \u001B[0mrandom\u001B[0m\u001B[0;34m=\u001B[0m\u001B[0;32mTrue\u001B[0m\u001B[0;34m)\u001B[0m\u001B[0;34m\u001B[0m\u001B[0;34m\u001B[0m\u001B[0m\n",
       "\u001B[0;32m---> 52\u001B[0;31m     \u001B[0;34m.\u001B[0m\u001B[0mwithColumnSpec\u001B[0m\u001B[0;34m(\u001B[0m\u001B[0;34m\"updated_at\"\u001B[0m\u001B[0;34m,\u001B[0m \u001B[0;34m\"timestamp\"\u001B[0m\u001B[0;34m,\u001B[0m \u001B[0mdata_range\u001B[0m\u001B[0;34m=\u001B[0m\u001B[0mDateRange\u001B[0m\u001B[0;34m(\u001B[0m\u001B[0;34m\"2023-01-01 00:00:00\"\u001B[0m\u001B[0;34m,\u001B[0m \u001B[0;34m\"2023-12-31 23:59:59\"\u001B[0m\u001B[0;34m,\u001B[0m \u001B[0mcustom_function\u001B[0m\u001B[0;34m=\u001B[0m\u001B[0mgenerate_updated_at\u001B[0m\u001B[0;34m)\u001B[0m\u001B[0;34m,\u001B[0m \u001B[0mrandom\u001B[0m\u001B[0;34m=\u001B[0m\u001B[0;32mTrue\u001B[0m\u001B[0;34m)\u001B[0m\u001B[0;34m\u001B[0m\u001B[0;34m\u001B[0m\u001B[0m\n",
       "\u001B[0m\u001B[1;32m     53\u001B[0m )\n",
       "\u001B[1;32m     54\u001B[0m \u001B[0;34m\u001B[0m\u001B[0m\n",
       "\n",
       "\u001B[0;31mTypeError\u001B[0m: __init__() got an unexpected keyword argument 'custom_function'"
      ]
     },
     "metadata": {
      "application/vnd.databricks.v1+output": {
       "arguments": {},
       "data": "\u001B[0;31m---------------------------------------------------------------------------\u001B[0m\n\u001B[0;31mTypeError\u001B[0m                                 Traceback (most recent call last)\n\u001B[0;32m<command-2246483205640142>\u001B[0m in \u001B[0;36m<cell line: 42>\u001B[0;34m()\u001B[0m\n\u001B[1;32m     50\u001B[0m     \u001B[0;34m.\u001B[0m\u001B[0mwithColumnSpec\u001B[0m\u001B[0;34m(\u001B[0m\u001B[0;34m\"price\"\u001B[0m\u001B[0;34m,\u001B[0m \u001B[0mrandom\u001B[0m\u001B[0;34m=\u001B[0m\u001B[0;32mTrue\u001B[0m\u001B[0;34m,\u001B[0m \u001B[0mtext\u001B[0m\u001B[0;34m=\u001B[0m\u001B[0mPyfuncText\u001B[0m\u001B[0;34m(\u001B[0m\u001B[0;32mlambda\u001B[0m \u001B[0mcontext\u001B[0m\u001B[0;34m,\u001B[0m \u001B[0mv\u001B[0m\u001B[0;34m:\u001B[0m \u001B[0mstr\u001B[0m\u001B[0;34m(\u001B[0m\u001B[0mround\u001B[0m\u001B[0;34m(\u001B[0m\u001B[0mrandom\u001B[0m\u001B[0;34m.\u001B[0m\u001B[0muniform\u001B[0m\u001B[0;34m(\u001B[0m\u001B[0;36m10\u001B[0m\u001B[0;34m,\u001B[0m \u001B[0;36m1000\u001B[0m\u001B[0;34m)\u001B[0m\u001B[0;34m,\u001B[0m \u001B[0;36m2\u001B[0m\u001B[0;34m)\u001B[0m\u001B[0;34m)\u001B[0m\u001B[0;34m)\u001B[0m\u001B[0;34m)\u001B[0m\u001B[0;34m\u001B[0m\u001B[0;34m\u001B[0m\u001B[0m\n\u001B[1;32m     51\u001B[0m     \u001B[0;34m.\u001B[0m\u001B[0mwithColumnSpec\u001B[0m\u001B[0;34m(\u001B[0m\u001B[0;34m\"created_at\"\u001B[0m\u001B[0;34m,\u001B[0m \u001B[0;34m\"timestamp\"\u001B[0m\u001B[0;34m,\u001B[0m \u001B[0mdata_range\u001B[0m\u001B[0;34m=\u001B[0m\u001B[0mDateRange\u001B[0m\u001B[0;34m(\u001B[0m\u001B[0;34m\"2010-01-01 00:00:00\"\u001B[0m\u001B[0;34m,\u001B[0m \u001B[0;34m\"2023-12-31 23:59:59\"\u001B[0m\u001B[0;34m,\u001B[0m \u001B[0;34m\"days=1\"\u001B[0m\u001B[0;34m)\u001B[0m\u001B[0;34m,\u001B[0m \u001B[0mrandom\u001B[0m\u001B[0;34m=\u001B[0m\u001B[0;32mTrue\u001B[0m\u001B[0;34m)\u001B[0m\u001B[0;34m\u001B[0m\u001B[0;34m\u001B[0m\u001B[0m\n\u001B[0;32m---> 52\u001B[0;31m     \u001B[0;34m.\u001B[0m\u001B[0mwithColumnSpec\u001B[0m\u001B[0;34m(\u001B[0m\u001B[0;34m\"updated_at\"\u001B[0m\u001B[0;34m,\u001B[0m \u001B[0;34m\"timestamp\"\u001B[0m\u001B[0;34m,\u001B[0m \u001B[0mdata_range\u001B[0m\u001B[0;34m=\u001B[0m\u001B[0mDateRange\u001B[0m\u001B[0;34m(\u001B[0m\u001B[0;34m\"2023-01-01 00:00:00\"\u001B[0m\u001B[0;34m,\u001B[0m \u001B[0;34m\"2023-12-31 23:59:59\"\u001B[0m\u001B[0;34m,\u001B[0m \u001B[0mcustom_function\u001B[0m\u001B[0;34m=\u001B[0m\u001B[0mgenerate_updated_at\u001B[0m\u001B[0;34m)\u001B[0m\u001B[0;34m,\u001B[0m \u001B[0mrandom\u001B[0m\u001B[0;34m=\u001B[0m\u001B[0;32mTrue\u001B[0m\u001B[0;34m)\u001B[0m\u001B[0;34m\u001B[0m\u001B[0;34m\u001B[0m\u001B[0m\n\u001B[0m\u001B[1;32m     53\u001B[0m )\n\u001B[1;32m     54\u001B[0m \u001B[0;34m\u001B[0m\u001B[0m\n\n\u001B[0;31mTypeError\u001B[0m: __init__() got an unexpected keyword argument 'custom_function'",
       "errorSummary": "<span class='ansi-red-fg'>TypeError</span>: __init__() got an unexpected keyword argument 'custom_function'",
       "errorTraceType": "ansi",
       "metadata": {},
       "type": "ipynbError"
      }
     },
     "output_type": "display_data"
    }
   ],
   "source": [
    "from dbldatagen import DataGenerator, PyfuncText, DateRange\n",
    "from faker import Faker\n",
    "import random\n",
    "from pyspark.sql import SparkSession\n",
    "from pyspark.sql.types import StructType, StructField, StringType, TimestampType, IntegerType, DoubleType\n",
    "from datetime import datetime, timedelta\n",
    "\n",
    "# Create a SparkSession\n",
    "spark = SparkSession.builder.appName(\"DataGeneration\").getOrCreate()\n",
    "\n",
    "brand_values = [\"Brand1\", \"Brand2\", \"Brand3\", \"Brand4\", \"Brand5\"]\n",
    "sub_brand_values = [\"SubBrand1\", \"SubBrand2\", \"SubBrand3\", \"SubBrand4\", \"SubBrand5\"]\n",
    "category_values = [\"Category1\", \"Category2\", \"Category3\", \"Category4\", \"Category5\"]\n",
    "sub_category_values = [\"SubCategory1\", \"SubCategory2\", \"SubCategory3\", \"SubCategory4\", \"SubCategory5\"]\n",
    "\n",
    "# Define the number of rows and partitions for data generation\n",
    "partitions_requested = 2\n",
    "data_rows = 10\n",
    "\n",
    "# Define the schema for the synthetic data\n",
    "schema = StructType([\n",
    "    StructField(\"item_id\", IntegerType(), False),\n",
    "    StructField(\"brand\", StringType(), True),\n",
    "    StructField(\"sub_brand\", StringType(), True),\n",
    "    StructField(\"category\", StringType(), True),\n",
    "    StructField(\"sub_category\", StringType(), True),\n",
    "    StructField(\"ean\", StringType(), True),\n",
    "    StructField(\"price\", DoubleType(), True),  # Use DoubleType() for price\n",
    "    StructField(\"created_at\", TimestampType(), True),\n",
    "    StructField(\"updated_at\", TimestampType(), True)\n",
    "])\n",
    "\n",
    "# Custom function to generate updated_at >= created_at\n",
    "def generate_updated_at(context, v):\n",
    "    created_at = context[\"created_at\"]\n",
    "    max_days_difference = (datetime(2023, 12, 31) - created_at).days\n",
    "    updated_at = created_at + timedelta(days=random.randint(0, max_days_difference))\n",
    "    return updated_at\n",
    "\n",
    "# Create a DataGenerator for synthetic data generation\n",
    "item_data_generator = (\n",
    "    DataGenerator(spark, rows=data_rows, partitions=partitions_requested)\n",
    "    .withSchema(schema)\n",
    "    .withColumnSpec(\"item_id\", minValue=1, maxValue=5000, step=1)\n",
    "    .withColumnSpec(\"brand\", text=PyfuncText(lambda context, v: random.choice(brand_values)))\n",
    "    .withColumnSpec(\"sub_brand\", text=PyfuncText(lambda context, v: random.choice(sub_brand_values)))\n",
    "    .withColumnSpec(\"category\", text=PyfuncText(lambda context, v: random.choice(category_values)))\n",
    "    .withColumnSpec(\"sub_category\", text=PyfuncText(lambda context, v: random.choice(sub_category_values)))\n",
    "    .withColumnSpec(\"ean\", text=PyfuncText(lambda context, v: Faker().ean8()))\n",
    "    .withColumnSpec(\"price\", random=True, text=PyfuncText(lambda context, v: str(round(random.uniform(10, 1000), 2))))\n",
    "    .withColumnSpec(\"created_at\", \"timestamp\", data_range=DateRange(\"2010-01-01 00:00:00\", \"2023-12-31 23:59:59\", \"days=1\"), random=True)\n",
    "    .withColumnSpec(\"updated_at\", \"timestamp\", data_range=DateRange(\"2023-01-01 00:00:00\", \"2023-12-31 23:59:59\", custom_function=generate_updated_at), random=True)\n",
    ")\n",
    "\n",
    "# Build the synthetic data DataFrame\n",
    "item_data = item_data_generator.build()\n",
    "\n",
    "# Display the first 10 rows of the generated data\n",
    "display(item_data.limit(10))\n"
   ]
  },
  {
   "cell_type": "code",
   "execution_count": 0,
   "metadata": {
    "application/vnd.databricks.v1+cell": {
     "cellMetadata": {
      "byteLimit": 2048000,
      "rowLimit": 10000
     },
     "inputWidgets": {},
     "nuid": "d2adb5a2-9978-46bc-b251-f25c6e6a2933",
     "showTitle": false,
     "title": ""
    }
   },
   "outputs": [
    {
     "output_type": "display_data",
     "data": {
      "text/html": [
       "<style scoped>\n",
       "  .table-result-container {\n",
       "    max-height: 300px;\n",
       "    overflow: auto;\n",
       "  }\n",
       "  table, th, td {\n",
       "    border: 1px solid black;\n",
       "    border-collapse: collapse;\n",
       "  }\n",
       "  th, td {\n",
       "    padding: 5px;\n",
       "  }\n",
       "  th {\n",
       "    text-align: left;\n",
       "  }\n",
       "</style><div class='table-result-container'><table class='table-result'><thead style='background-color: white'><tr><th>item_id</th><th>brand</th><th>sub_brand</th><th>category</th><th>sub_category</th><th>ean</th><th>price</th><th>created_at</th><th>updated_at</th></tr></thead><tbody><tr><td>1</td><td>Brand1</td><td>SubBrand2</td><td>Category2</td><td>SubCategory3</td><td>81178353</td><td>0.0</td><td>2012-03-20T00:00:00.000+0000</td><td>2012-03-21</td></tr><tr><td>2</td><td>Brand3</td><td>SubBrand4</td><td>Category4</td><td>SubCategory4</td><td>96247877</td><td>1.0</td><td>2012-12-10T00:00:00.000+0000</td><td>2012-12-11</td></tr><tr><td>3</td><td>Brand2</td><td>SubBrand5</td><td>Category4</td><td>SubCategory1</td><td>64370170</td><td>2.0</td><td>2021-10-09T00:00:00.000+0000</td><td>2021-10-10</td></tr><tr><td>4</td><td>Brand5</td><td>SubBrand2</td><td>Category1</td><td>SubCategory1</td><td>48472609</td><td>3.0</td><td>2021-02-12T00:00:00.000+0000</td><td>2021-02-13</td></tr><tr><td>5</td><td>Brand3</td><td>SubBrand5</td><td>Category4</td><td>SubCategory3</td><td>18924374</td><td>4.0</td><td>2010-02-09T00:00:00.000+0000</td><td>2010-02-10</td></tr><tr><td>6</td><td>Brand4</td><td>SubBrand3</td><td>Category4</td><td>SubCategory4</td><td>87297454</td><td>5.0</td><td>2019-10-02T00:00:00.000+0000</td><td>2019-10-03</td></tr><tr><td>7</td><td>Brand5</td><td>SubBrand2</td><td>Category2</td><td>SubCategory1</td><td>54091450</td><td>6.0</td><td>2017-02-27T00:00:00.000+0000</td><td>2017-02-28</td></tr><tr><td>8</td><td>Brand4</td><td>SubBrand3</td><td>Category2</td><td>SubCategory5</td><td>09100107</td><td>7.0</td><td>2019-11-16T00:00:00.000+0000</td><td>2019-11-17</td></tr><tr><td>9</td><td>Brand1</td><td>SubBrand2</td><td>Category3</td><td>SubCategory3</td><td>95264400</td><td>8.0</td><td>2012-06-15T00:00:00.000+0000</td><td>2012-06-16</td></tr><tr><td>10</td><td>Brand4</td><td>SubBrand2</td><td>Category2</td><td>SubCategory5</td><td>82215255</td><td>9.0</td><td>2011-12-22T00:00:00.000+0000</td><td>2011-12-23</td></tr></tbody></table></div>"
      ]
     },
     "metadata": {
      "application/vnd.databricks.v1+output": {
       "addedWidgets": {},
       "aggData": [],
       "aggError": "",
       "aggOverflow": false,
       "aggSchema": [],
       "aggSeriesLimitReached": false,
       "aggType": "",
       "arguments": {},
       "columnCustomDisplayInfos": {},
       "data": [
        [
         1,
         "Brand1",
         "SubBrand2",
         "Category2",
         "SubCategory3",
         "81178353",
         0.0,
         "2012-03-20T00:00:00.000+0000",
         "2012-03-21"
        ],
        [
         2,
         "Brand3",
         "SubBrand4",
         "Category4",
         "SubCategory4",
         "96247877",
         1.0,
         "2012-12-10T00:00:00.000+0000",
         "2012-12-11"
        ],
        [
         3,
         "Brand2",
         "SubBrand5",
         "Category4",
         "SubCategory1",
         "64370170",
         2.0,
         "2021-10-09T00:00:00.000+0000",
         "2021-10-10"
        ],
        [
         4,
         "Brand5",
         "SubBrand2",
         "Category1",
         "SubCategory1",
         "48472609",
         3.0,
         "2021-02-12T00:00:00.000+0000",
         "2021-02-13"
        ],
        [
         5,
         "Brand3",
         "SubBrand5",
         "Category4",
         "SubCategory3",
         "18924374",
         4.0,
         "2010-02-09T00:00:00.000+0000",
         "2010-02-10"
        ],
        [
         6,
         "Brand4",
         "SubBrand3",
         "Category4",
         "SubCategory4",
         "87297454",
         5.0,
         "2019-10-02T00:00:00.000+0000",
         "2019-10-03"
        ],
        [
         7,
         "Brand5",
         "SubBrand2",
         "Category2",
         "SubCategory1",
         "54091450",
         6.0,
         "2017-02-27T00:00:00.000+0000",
         "2017-02-28"
        ],
        [
         8,
         "Brand4",
         "SubBrand3",
         "Category2",
         "SubCategory5",
         "09100107",
         7.0,
         "2019-11-16T00:00:00.000+0000",
         "2019-11-17"
        ],
        [
         9,
         "Brand1",
         "SubBrand2",
         "Category3",
         "SubCategory3",
         "95264400",
         8.0,
         "2012-06-15T00:00:00.000+0000",
         "2012-06-16"
        ],
        [
         10,
         "Brand4",
         "SubBrand2",
         "Category2",
         "SubCategory5",
         "82215255",
         9.0,
         "2011-12-22T00:00:00.000+0000",
         "2011-12-23"
        ]
       ],
       "datasetInfos": [],
       "dbfsResultPath": null,
       "isJsonSchema": true,
       "metadata": {},
       "overflow": false,
       "plotOptions": {
        "customPlotOptions": {},
        "displayType": "table",
        "pivotAggregation": null,
        "pivotColumns": null,
        "xColumns": null,
        "yColumns": null
       },
       "removedWidgets": [],
       "schema": [
        {
         "metadata": "{}",
         "name": "item_id",
         "type": "\"integer\""
        },
        {
         "metadata": "{}",
         "name": "brand",
         "type": "\"string\""
        },
        {
         "metadata": "{}",
         "name": "sub_brand",
         "type": "\"string\""
        },
        {
         "metadata": "{}",
         "name": "category",
         "type": "\"string\""
        },
        {
         "metadata": "{}",
         "name": "sub_category",
         "type": "\"string\""
        },
        {
         "metadata": "{}",
         "name": "ean",
         "type": "\"string\""
        },
        {
         "metadata": "{}",
         "name": "price",
         "type": "\"double\""
        },
        {
         "metadata": "{}",
         "name": "created_at",
         "type": "\"timestamp\""
        },
        {
         "metadata": "{}",
         "name": "updated_at",
         "type": "\"date\""
        }
       ],
       "type": "table"
      }
     },
     "output_type": "display_data"
    }
   ],
   "source": [
    "# Build the synthetic data DataFrame\n",
    "item_data = item_data_generator.build()\n",
    "\n",
    "# Display the first 10 rows of the generated data\n",
    "item_data.show(10)\n"
   ]
  },
  {
   "cell_type": "code",
   "execution_count": 0,
   "metadata": {
    "application/vnd.databricks.v1+cell": {
     "cellMetadata": {},
     "inputWidgets": {},
     "nuid": "8a1dfbab-6ec5-4037-810d-dde8d32e2f05",
     "showTitle": false,
     "title": ""
    }
   },
   "outputs": [],
   "source": []
  }
 ],
 "metadata": {
  "application/vnd.databricks.v1+notebook": {
   "dashboards": [],
   "language": "python",
   "notebookMetadata": {
    "pythonIndentUnit": 4
   },
   "notebookName": "Product price change",
   "widgets": {}
  }
 },
 "nbformat": 4,
 "nbformat_minor": 0
}
