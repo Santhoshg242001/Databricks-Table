{
 "cells": [
  {
   "cell_type": "code",
   "execution_count": 0,
   "metadata": {
    "application/vnd.databricks.v1+cell": {
     "cellMetadata": {
      "byteLimit": 2048000,
      "rowLimit": 10000
     },
     "inputWidgets": {},
     "nuid": "c75e5e45-df44-43f3-8209-32daef06beb0",
     "showTitle": false,
     "title": ""
    }
   },
   "outputs": [
    {
     "output_type": "stream",
     "name": "stdout",
     "output_type": "stream",
     "text": [
      "Python interpreter will be restarted.\nCollecting dbldatagen\n  Using cached dbldatagen-0.3.5-py3-none-any.whl (86 kB)\nInstalling collected packages: dbldatagen\nSuccessfully installed dbldatagen-0.3.5\nPython interpreter will be restarted.\n"
     ]
    }
   ],
   "source": [
    "%pip install dbldatagen"
   ]
  },
  {
   "cell_type": "code",
   "execution_count": 0,
   "metadata": {
    "application/vnd.databricks.v1+cell": {
     "cellMetadata": {
      "byteLimit": 2048000,
      "rowLimit": 10000
     },
     "inputWidgets": {},
     "nuid": "4cde60a8-d7c0-41bc-a019-d5cfeef4d433",
     "showTitle": false,
     "title": ""
    }
   },
   "outputs": [
    {
     "output_type": "stream",
     "name": "stdout",
     "output_type": "stream",
     "text": [
      "Python interpreter will be restarted.\nCollecting Faker\n  Using cached Faker-19.6.2-py3-none-any.whl (1.7 MB)\nRequirement already satisfied: python-dateutil>=2.4 in /databricks/python3/lib/python3.9/site-packages (from Faker) (2.8.2)\nRequirement already satisfied: six>=1.5 in /databricks/python3/lib/python3.9/site-packages (from python-dateutil>=2.4->Faker) (1.16.0)\nInstalling collected packages: Faker\nSuccessfully installed Faker-19.6.2\nPython interpreter will be restarted.\n"
     ]
    }
   ],
   "source": [
    "%pip install Faker"
   ]
  },
  {
   "cell_type": "code",
   "execution_count": 0,
   "metadata": {
    "application/vnd.databricks.v1+cell": {
     "cellMetadata": {
      "byteLimit": 2048000,
      "rowLimit": 10000
     },
     "inputWidgets": {},
     "nuid": "a0886588-081b-4e78-ac86-7045466162a6",
     "showTitle": false,
     "title": ""
    }
   },
   "outputs": [
    {
     "output_type": "display_data",
     "data": {
      "text/html": [
       "<style scoped>\n",
       "  .table-result-container {\n",
       "    max-height: 300px;\n",
       "    overflow: auto;\n",
       "  }\n",
       "  table, th, td {\n",
       "    border: 1px solid black;\n",
       "    border-collapse: collapse;\n",
       "  }\n",
       "  th, td {\n",
       "    padding: 5px;\n",
       "  }\n",
       "  th {\n",
       "    text-align: left;\n",
       "  }\n",
       "</style><div class='table-result-container'><table class='table-result'><thead style='background-color: white'><tr><th>Index</th><th>amount</th><th>Code</th><th>Created_At</th><th>type</th><th>updated_at</th><th>Checkout_id</th></tr></thead><tbody><tr><td>1</td><td>872.87</td><td>most</td><td>2010-11-09T00:00:00.000+0000</td><td>Type1</td><td>2010-11-10</td><td>1000</td></tr><tr><td>2</td><td>670.96</td><td>range</td><td>2018-10-27T00:00:00.000+0000</td><td>Type1</td><td>2018-10-28</td><td>1001</td></tr><tr><td>3</td><td>807.63</td><td>drug</td><td>2011-01-06T00:00:00.000+0000</td><td>Type3</td><td>2011-01-07</td><td>1002</td></tr><tr><td>4</td><td>559.03</td><td>evidence</td><td>2010-02-25T00:00:00.000+0000</td><td>Type1</td><td>2010-02-26</td><td>1003</td></tr><tr><td>5</td><td>353.29</td><td>me</td><td>2016-09-27T00:00:00.000+0000</td><td>Type1</td><td>2016-09-28</td><td>1004</td></tr><tr><td>6</td><td>848.56</td><td>middle</td><td>2013-09-19T00:00:00.000+0000</td><td>Type3</td><td>2013-09-20</td><td>1005</td></tr><tr><td>7</td><td>341.79</td><td>positive</td><td>2016-02-03T00:00:00.000+0000</td><td>Type3</td><td>2016-02-04</td><td>1006</td></tr><tr><td>8</td><td>991.97</td><td>if</td><td>2018-09-10T00:00:00.000+0000</td><td>Type1</td><td>2018-09-11</td><td>1007</td></tr><tr><td>9</td><td>355.04</td><td>mother</td><td>2010-05-15T00:00:00.000+0000</td><td>Type2</td><td>2010-05-16</td><td>1008</td></tr><tr><td>10</td><td>381.69</td><td>fear</td><td>2011-08-18T00:00:00.000+0000</td><td>Type2</td><td>2011-08-19</td><td>1009</td></tr></tbody></table></div>"
      ]
     },
     "metadata": {
      "application/vnd.databricks.v1+output": {
       "addedWidgets": {},
       "aggData": [],
       "aggError": "",
       "aggOverflow": false,
       "aggSchema": [],
       "aggSeriesLimitReached": false,
       "aggType": "",
       "arguments": {},
       "columnCustomDisplayInfos": {},
       "data": [
        [
         1,
         "872.87",
         "most",
         "2010-11-09T00:00:00.000+0000",
         "Type1",
         "2010-11-10",
         1000
        ],
        [
         2,
         "670.96",
         "range",
         "2018-10-27T00:00:00.000+0000",
         "Type1",
         "2018-10-28",
         1001
        ],
        [
         3,
         "807.63",
         "drug",
         "2011-01-06T00:00:00.000+0000",
         "Type3",
         "2011-01-07",
         1002
        ],
        [
         4,
         "559.03",
         "evidence",
         "2010-02-25T00:00:00.000+0000",
         "Type1",
         "2010-02-26",
         1003
        ],
        [
         5,
         "353.29",
         "me",
         "2016-09-27T00:00:00.000+0000",
         "Type1",
         "2016-09-28",
         1004
        ],
        [
         6,
         "848.56",
         "middle",
         "2013-09-19T00:00:00.000+0000",
         "Type3",
         "2013-09-20",
         1005
        ],
        [
         7,
         "341.79",
         "positive",
         "2016-02-03T00:00:00.000+0000",
         "Type3",
         "2016-02-04",
         1006
        ],
        [
         8,
         "991.97",
         "if",
         "2018-09-10T00:00:00.000+0000",
         "Type1",
         "2018-09-11",
         1007
        ],
        [
         9,
         "355.04",
         "mother",
         "2010-05-15T00:00:00.000+0000",
         "Type2",
         "2010-05-16",
         1008
        ],
        [
         10,
         "381.69",
         "fear",
         "2011-08-18T00:00:00.000+0000",
         "Type2",
         "2011-08-19",
         1009
        ]
       ],
       "datasetInfos": [],
       "dbfsResultPath": null,
       "isJsonSchema": true,
       "metadata": {},
       "overflow": false,
       "plotOptions": {
        "customPlotOptions": {},
        "displayType": "table",
        "pivotAggregation": null,
        "pivotColumns": null,
        "xColumns": null,
        "yColumns": null
       },
       "removedWidgets": [],
       "schema": [
        {
         "metadata": "{}",
         "name": "Index",
         "type": "\"integer\""
        },
        {
         "metadata": "{}",
         "name": "amount",
         "type": "\"string\""
        },
        {
         "metadata": "{}",
         "name": "Code",
         "type": "\"string\""
        },
        {
         "metadata": "{}",
         "name": "Created_At",
         "type": "\"timestamp\""
        },
        {
         "metadata": "{}",
         "name": "type",
         "type": "\"string\""
        },
        {
         "metadata": "{}",
         "name": "updated_at",
         "type": "\"date\""
        },
        {
         "metadata": "{}",
         "name": "Checkout_id",
         "type": "\"integer\""
        }
       ],
       "type": "table"
      }
     },
     "output_type": "display_data"
    }
   ],
   "source": [
    "from dbldatagen import DataGenerator, PyfuncText, DateRange\n",
    "from faker import Faker\n",
    "import random\n",
    "from pyspark.sql import SparkSession\n",
    "from pyspark.sql.types import StructType, StructField, StringType, TimestampType, IntegerType, DoubleType\n",
    "from datetime import datetime, timedelta\n",
    "from pyspark.sql.functions import expr\n",
    "\n",
    "# Create a SparkSession\n",
    "spark = SparkSession.builder.appName(\"DataGeneration\").getOrCreate()\n",
    "\n",
    "# Define the number of rows and partitions for data generation\n",
    "partitions_requested = 2\n",
    "data_rows = 10\n",
    "\n",
    "# Define the schema for the synthetic data\n",
    "schema = StructType([    \n",
    "    StructField(\"Index\", IntegerType(), True),  # New columns\n",
    "    StructField(\"amount\", StringType(), True),\n",
    "    StructField(\"Code\", StringType(), True),\n",
    "    StructField(\"Created_At\", TimestampType(), True),\n",
    "    StructField(\"type\", StringType(), True),\n",
    "    StructField(\"updated_at\", TimestampType(), True),\n",
    "    StructField(\"Checkout_id\", IntegerType(), True)\n",
    "])\n",
    "\n",
    "# Custom function to generate updated_at >= created_at\n",
    "def generate_updated_at(created_at):\n",
    "    max_days_difference = (datetime(2023, 12, 31) - created_at).days\n",
    "    updated_at = created_at + timedelta(days=random.randint(0, max_days_difference))\n",
    "    return updated_at\n",
    "\n",
    "# Create a DataGenerator for synthetic data generation\n",
    "item_data_generator = (\n",
    "    DataGenerator(spark, rows=data_rows, partitions=partitions_requested)\n",
    "    .withSchema(schema)\n",
    "    .withColumnSpec(\"Index\", minValue=1, maxValue=100, step=1)  # Example values, adjust as needed\n",
    "    .withColumnSpec(\"amount\", random=True, text=PyfuncText(lambda context, v: str(round(random.uniform(100, 1000), 2))))  # Example values, adjust as needed\n",
    "    .withColumnSpec(\"Code\", text=PyfuncText(lambda context, v: Faker().word()))  # Example values, adjust as needed\n",
    "    .withColumnSpec(\"Created_At\", \"timestamp\", data_range=DateRange(\"2010-01-01 00:00:00\", \"2023-12-31 23:59:59\", \"days=1\"), random=True)\n",
    "    .withColumnSpec(\"type\", text=PyfuncText(lambda context, v: random.choice([\"Type1\", \"Type2\", \"Type3\"])))  # Example values, adjust as needed\n",
    "    .withColumnSpec(\"Checkout_id\", minValue=1000, maxValue=2000, step=1)  # Example values, adjust as needed\n",
    ")\n",
    "\n",
    "# Build the synthetic data DataFrame\n",
    "item_data = item_data_generator.build()\n",
    "\n",
    "# Generate updated_at values\n",
    "item_data = item_data.withColumn(\"updated_at\", expr(\"date_add(created_at, 1)\"))\n",
    "\n",
    "# Display the first 10 rows of the generated data\n",
    "display(item_data)\n"
   ]
  },
  {
   "cell_type": "code",
   "execution_count": 0,
   "metadata": {
    "application/vnd.databricks.v1+cell": {
     "cellMetadata": {
      "byteLimit": 2048000,
      "rowLimit": 10000
     },
     "inputWidgets": {},
     "nuid": "bbbe82d0-2ce6-4f9e-b534-79eafce2cbb7",
     "showTitle": false,
     "title": ""
    }
   },
   "outputs": [],
   "source": []
  }
 ],
 "metadata": {
  "application/vnd.databricks.v1+notebook": {
   "dashboards": [],
   "language": "python",
   "notebookMetadata": {
    "pythonIndentUnit": 4
   },
   "notebookName": "Abandoned Discount",
   "widgets": {}
  }
 },
 "nbformat": 4,
 "nbformat_minor": 0
}
