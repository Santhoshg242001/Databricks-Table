{
 "cells": [
  {
   "cell_type": "code",
   "execution_count": 0,
   "metadata": {
    "application/vnd.databricks.v1+cell": {
     "cellMetadata": {
      "byteLimit": 2048000,
      "rowLimit": 10000
     },
     "inputWidgets": {},
     "nuid": "c51e3a42-a976-4f7b-ad27-dd888b1ee9a7",
     "showTitle": false,
     "title": ""
    }
   },
   "outputs": [
    {
     "output_type": "stream",
     "name": "stdout",
     "output_type": "stream",
     "text": [
      "Python interpreter will be restarted.\nCollecting dbldatagen\n  Using cached dbldatagen-0.3.5-py3-none-any.whl (86 kB)\nInstalling collected packages: dbldatagen\nSuccessfully installed dbldatagen-0.3.5\nPython interpreter will be restarted.\n"
     ]
    }
   ],
   "source": [
    "%pip install dbldatagen"
   ]
  },
  {
   "cell_type": "code",
   "execution_count": 0,
   "metadata": {
    "application/vnd.databricks.v1+cell": {
     "cellMetadata": {
      "byteLimit": 2048000,
      "rowLimit": 10000
     },
     "inputWidgets": {},
     "nuid": "e734b4eb-cae0-4f92-aea9-67c92d321bc4",
     "showTitle": false,
     "title": ""
    }
   },
   "outputs": [
    {
     "output_type": "stream",
     "name": "stdout",
     "output_type": "stream",
     "text": [
      "Python interpreter will be restarted.\nCollecting Faker\n  Using cached Faker-19.6.2-py3-none-any.whl (1.7 MB)\nRequirement already satisfied: python-dateutil>=2.4 in /databricks/python3/lib/python3.9/site-packages (from Faker) (2.8.2)\nRequirement already satisfied: six>=1.5 in /databricks/python3/lib/python3.9/site-packages (from python-dateutil>=2.4->Faker) (1.16.0)\nInstalling collected packages: Faker\nSuccessfully installed Faker-19.6.2\nPython interpreter will be restarted.\n"
     ]
    }
   ],
   "source": [
    "%pip install Faker"
   ]
  },
  {
   "cell_type": "code",
   "execution_count": 0,
   "metadata": {
    "application/vnd.databricks.v1+cell": {
     "cellMetadata": {
      "byteLimit": 2048000,
      "rowLimit": 10000
     },
     "inputWidgets": {},
     "nuid": "808c1d50-6f9e-4631-91d8-4a9333f1aa53",
     "showTitle": false,
     "title": ""
    }
   },
   "outputs": [
    {
     "output_type": "display_data",
     "data": {
      "text/html": [
       "<style scoped>\n",
       "  .table-result-container {\n",
       "    max-height: 300px;\n",
       "    overflow: auto;\n",
       "  }\n",
       "  table, th, td {\n",
       "    border: 1px solid black;\n",
       "    border-collapse: collapse;\n",
       "  }\n",
       "  th, td {\n",
       "    padding: 5px;\n",
       "  }\n",
       "  th {\n",
       "    text-align: left;\n",
       "  }\n",
       "</style><div class='table-result-container'><table class='table-result'><thead style='background-color: white'><tr><th>_id</th><th>Customer_id</th><th>location_id</th><th>shopity_user_rd</th><th>Channel_id</th><th>abandoned_url</th><th>Company</th><th>Brand</th><th>Sub_brand</th><th>Category</th><th>Sub_Category</th><th>Cart_token</th><th>Closed_at</th><th>device_id</th><th>email_id</th><th>gateway</th><th>launching_site_url</th><th>Source</th><th>Shipping_rate_id</th><th>Shipping_rate_Price</th><th>Shipping_rate_title</th><th>source_identifier</th><th>source_name</th><th>Source_url</th><th>Shipping_line</th><th>Taxes_included</th><th>Token</th><th>Total_discount</th><th>total_line_item_price</th><th>total_price</th><th>Updated_at</th><th>applied_discount</th><th>Shipping_address</th></tr></thead><tbody><tr><td>1</td><td>0</td><td>103</td><td>history</td><td>0</td><td>http://robinson.com/</td><td>Gibson-Mason</td><td>Brand5</td><td>Inc</td><td>real</td><td>senior</td><td>1771ce68-c372-4a5a-8e22-fbff97f59293</td><td>2010-09-14T00:00:00.000+0000</td><td>41ce5cdf-53ae-45c5-a874-ffc09c6c8473</td><td>markkennedy@example.net</td><td>support</td><td>http://martinez.com/</td><td>Channel3</td><td>0</td><td>0</td><td>Suggest trade series.</td><td>ee2a895b-dfd8-4a76-8b83-00fbd4843455</td><td>Channel2</td><td>https://neal.com/</td><td>Local shoulder great just focus identify into.</td><td>0</td><td>3bea2d8a-67a0-4a7a-be84-6b667c5bb3e9</td><td>0</td><td>0</td><td>0</td><td>2020-04-30T00:00:00.000+0000</td><td>7970</td><td>88134 Pearson Street\n",
       "Port Lisa, HI 65471</td></tr><tr><td>2</td><td>1</td><td>19</td><td>late</td><td>1</td><td>http://hawkins.biz/</td><td>Jones Ltd</td><td>Brand4</td><td>Ltd</td><td>with</td><td>or</td><td>3c34d0e5-eca6-4619-b570-40b69725064f</td><td>2012-01-12T00:00:00.000+0000</td><td>f36000d4-8e86-4eb7-addc-4e0ae5f760df</td><td>riddleglen@example.com</td><td>administration</td><td>http://www.mcgee.com/</td><td>Channel5</td><td>1</td><td>1</td><td>Difficult Mr director national woman office.</td><td>97da0324-6e54-43b7-84fa-af5f9c6306b3</td><td>Channel5</td><td>http://mccullough.com/</td><td>Campaign only situation enough might leave personal.</td><td>1</td><td>96d586a0-65db-4d13-aa8c-2843edb12d3b</td><td>1</td><td>1</td><td>1</td><td>2016-08-15T00:00:00.000+0000</td><td>476</td><td>4931 Shelby Drive Suite 085\n",
       "North Jamesmouth, NE 68206</td></tr><tr><td>3</td><td>2</td><td>33</td><td>outside</td><td>2</td><td>https://pruitt.com/</td><td>Smith, Gonzalez and Bishop</td><td>Brand1</td><td>PLC</td><td>cultural</td><td>side</td><td>95576a98-a37c-4ea8-9af9-b368c1c01b8d</td><td>2016-02-26T00:00:00.000+0000</td><td>efe7d5be-e773-4161-bbd0-626f7050890d</td><td>kclark@example.com</td><td>image</td><td>http://valdez.net/</td><td>Channel3</td><td>2</td><td>2</td><td>Nature relate free evening effort.</td><td>4b021c0f-2ca0-4c33-b818-1a7f5afe73a5</td><td>Channel5</td><td>https://stevens.net/</td><td>Girl present gun reality.</td><td>2</td><td>3f6720d5-7fbd-491e-8fb5-b85a4f68f793</td><td>2</td><td>2</td><td>2</td><td>2013-03-15T00:00:00.000+0000</td><td>4972</td><td>USNS Murphy\n",
       "FPO AE 10455</td></tr><tr><td>4</td><td>3</td><td>48</td><td>day</td><td>3</td><td>https://www.gomez.com/</td><td>Carr Group</td><td>Brand3</td><td>LLC</td><td>series</td><td>step</td><td>b3147328-add2-49dc-a862-e296e0cb1078</td><td>2013-09-01T00:00:00.000+0000</td><td>9fb05342-6adc-44c1-a43c-071df3418fa2</td><td>smiller@example.org</td><td>price</td><td>https://www.white.org/</td><td>Channel3</td><td>3</td><td>3</td><td>Culture to join authority remember news produce different.</td><td>4c6ad389-f4e3-4dd6-ac70-0dc09ea47fbd</td><td>Channel4</td><td>https://gonzalez.com/</td><td>Event trip magazine central.</td><td>3</td><td>054cbf4f-4eda-43d2-aa45-038bfcec4b7d</td><td>3</td><td>3</td><td>3</td><td>2011-11-26T00:00:00.000+0000</td><td>9356</td><td>86796 Huynh Parks Apt. 524\n",
       "South Ian, AL 82794</td></tr><tr><td>5</td><td>4</td><td>70</td><td>today</td><td>4</td><td>https://www.morris.com/</td><td>Barry Inc</td><td>Brand4</td><td>Inc</td><td>any</td><td>almost</td><td>f3da3d71-2b5d-48fd-91dc-8db42bbe3b9d</td><td>2018-05-29T00:00:00.000+0000</td><td>ee1230ec-7008-41fe-a9af-5d233ff285b9</td><td>sball@example.com</td><td>community</td><td>http://fernandez-drake.com/</td><td>Channel5</td><td>4</td><td>4</td><td>Item buy capital toward like idea laugh.</td><td>8394197f-ffbd-4603-ad7d-728e6dc3bf37</td><td>Channel1</td><td>http://williams.com/</td><td>Able such include activity cut when business.</td><td>4</td><td>e80a0ba3-ac4c-4131-afe5-6f9214ea6b84</td><td>4</td><td>4</td><td>4</td><td>2021-09-27T00:00:00.000+0000</td><td>8973</td><td>508 Samuel Knoll Suite 826\n",
       "Christianhaven, FM 49449</td></tr><tr><td>6</td><td>5</td><td>26</td><td>drug</td><td>5</td><td>http://conrad.com/</td><td>Bishop Group</td><td>Brand1</td><td>Ltd</td><td>nation</td><td>will</td><td>448f8d92-7a9c-42be-ac28-a8229078df35</td><td>2013-02-20T00:00:00.000+0000</td><td>b5baabf3-4692-4640-89b9-5c76de994a8f</td><td>jcollins@example.org</td><td>name</td><td>http://www.henry.com/</td><td>Channel1</td><td>5</td><td>5</td><td>According on course country blood.</td><td>04e1c331-1784-4b50-b0ce-d18b522b2e5f</td><td>Channel3</td><td>https://manning-bennett.com/</td><td>By move yet movie best scene.</td><td>5</td><td>41a6f2d6-399d-4ebf-bfce-3f5d80f31af2</td><td>5</td><td>5</td><td>5</td><td>2018-05-01T00:00:00.000+0000</td><td>7046</td><td>11371 Schmidt Avenue\n",
       "East Zacharyborough, WA 60625</td></tr><tr><td>7</td><td>6</td><td>83</td><td>daughter</td><td>6</td><td>http://www.ellis.com/</td><td>Campos, Gordon and Lee</td><td>Brand2</td><td>Inc</td><td>network</td><td>special</td><td>1e49b44e-64d6-484d-984e-ad4633c5a28b</td><td>2011-08-05T00:00:00.000+0000</td><td>421704cd-73b0-4711-96ff-f55e993b84ef</td><td>cjackson@example.com</td><td>even</td><td>https://thomas-williams.com/</td><td>Channel3</td><td>6</td><td>6</td><td>Allow sound possible remain despite argue.</td><td>b0dfe874-8587-4528-ab6b-95c8f03f90a0</td><td>Channel2</td><td>https://www.carr.net/</td><td>Fight represent main really interesting resource.</td><td>6</td><td>4531a741-07ba-437c-a25e-c671d4805956</td><td>6</td><td>6</td><td>6</td><td>2022-06-12T00:00:00.000+0000</td><td>4331</td><td>48313 Thompson Point Suite 939\n",
       "South Steven, PA 52150</td></tr><tr><td>8</td><td>7</td><td>86</td><td>pretty</td><td>7</td><td>http://carrillo.com/</td><td>Saunders Inc</td><td>Brand5</td><td>PLC</td><td>imagine</td><td>everything</td><td>30d93e6e-e855-4b42-abdb-52b0bfa4c6ae</td><td>2011-01-24T00:00:00.000+0000</td><td>9a580044-b082-45e4-b366-c929f792ce95</td><td>sandra66@example.com</td><td>difficult</td><td>http://www.henry.info/</td><td>Channel4</td><td>7</td><td>7</td><td>Spend I gas little peace medical happen.</td><td>42e995ea-291e-4139-8fbc-ac298647cc11</td><td>Channel2</td><td>https://www.hodge.com/</td><td>Power standard style leader home century.</td><td>7</td><td>e120f065-8934-47c3-87d7-1447e2af87fd</td><td>7</td><td>7</td><td>7</td><td>2018-07-07T00:00:00.000+0000</td><td>8593</td><td>5213 Morgan Grove Apt. 304\n",
       "Alexisberg, MI 44729</td></tr><tr><td>9</td><td>8</td><td>93</td><td>stop</td><td>8</td><td>https://alvarado-brown.com/</td><td>Kennedy PLC</td><td>Brand5</td><td>PLC</td><td>choose</td><td>early</td><td>7d220c46-a918-4e48-8396-ea853dfd94c7</td><td>2013-01-23T00:00:00.000+0000</td><td>ef3327ef-7ecc-4cd9-a252-9e00bd683d30</td><td>brownwilliam@example.net</td><td>push</td><td>https://www.anthony.com/</td><td>Channel4</td><td>8</td><td>8</td><td>Science career small in spring will mention.</td><td>5857430e-7028-4a38-9efa-c9011cf0198b</td><td>Channel3</td><td>http://mcclain.info/</td><td>Class establish real professional play action.</td><td>8</td><td>8b0ebbc6-adaa-4fea-92c0-76a8c842564e</td><td>8</td><td>8</td><td>8</td><td>2021-09-30T00:00:00.000+0000</td><td>3964</td><td>624 Rodriguez Terrace\n",
       "Jenniferfurt, IL 81138</td></tr><tr><td>10</td><td>9</td><td>107</td><td>small</td><td>9</td><td>http://rangel-brown.org/</td><td>Mathews PLC</td><td>Brand4</td><td>Group</td><td>shoulder</td><td>east</td><td>43a8de8d-f7e4-461d-bba7-0d77420da760</td><td>2023-04-03T00:00:00.000+0000</td><td>17f8d11d-71c1-4d7a-9e83-fc83740f488a</td><td>ncastaneda@example.net</td><td>soldier</td><td>http://www.collier.com/</td><td>Channel4</td><td>9</td><td>9</td><td>Power protect later experience several capital.</td><td>4d71991c-d729-4106-87c9-bcaadae18ec3</td><td>Channel3</td><td>https://www.martin-cain.org/</td><td>Enter save speak career.</td><td>9</td><td>1910a525-3444-4351-a784-447df2e89a65</td><td>9</td><td>9</td><td>9</td><td>2023-03-11T00:00:00.000+0000</td><td>5019</td><td>USNS Mcclain\n",
       "FPO AE 04824</td></tr></tbody></table></div>"
      ]
     },
     "metadata": {
      "application/vnd.databricks.v1+output": {
       "addedWidgets": {},
       "aggData": [],
       "aggError": "",
       "aggOverflow": false,
       "aggSchema": [],
       "aggSeriesLimitReached": false,
       "aggType": "",
       "arguments": {},
       "columnCustomDisplayInfos": {},
       "data": [
        [
         1,
         0,
         "103",
         "history",
         0,
         "http://robinson.com/",
         "Gibson-Mason",
         "Brand5",
         "Inc",
         "real",
         "senior",
         "1771ce68-c372-4a5a-8e22-fbff97f59293",
         "2010-09-14T00:00:00.000+0000",
         "41ce5cdf-53ae-45c5-a874-ffc09c6c8473",
         "markkennedy@example.net",
         "support",
         "http://martinez.com/",
         "Channel3",
         0,
         0,
         "Suggest trade series.",
         "ee2a895b-dfd8-4a76-8b83-00fbd4843455",
         "Channel2",
         "https://neal.com/",
         "Local shoulder great just focus identify into.",
         0,
         "3bea2d8a-67a0-4a7a-be84-6b667c5bb3e9",
         0,
         0,
         0,
         "2020-04-30T00:00:00.000+0000",
         "7970",
         "88134 Pearson Street\nPort Lisa, HI 65471"
        ],
        [
         2,
         1,
         "19",
         "late",
         1,
         "http://hawkins.biz/",
         "Jones Ltd",
         "Brand4",
         "Ltd",
         "with",
         "or",
         "3c34d0e5-eca6-4619-b570-40b69725064f",
         "2012-01-12T00:00:00.000+0000",
         "f36000d4-8e86-4eb7-addc-4e0ae5f760df",
         "riddleglen@example.com",
         "administration",
         "http://www.mcgee.com/",
         "Channel5",
         1,
         1,
         "Difficult Mr director national woman office.",
         "97da0324-6e54-43b7-84fa-af5f9c6306b3",
         "Channel5",
         "http://mccullough.com/",
         "Campaign only situation enough might leave personal.",
         1,
         "96d586a0-65db-4d13-aa8c-2843edb12d3b",
         1,
         1,
         1,
         "2016-08-15T00:00:00.000+0000",
         "476",
         "4931 Shelby Drive Suite 085\nNorth Jamesmouth, NE 68206"
        ],
        [
         3,
         2,
         "33",
         "outside",
         2,
         "https://pruitt.com/",
         "Smith, Gonzalez and Bishop",
         "Brand1",
         "PLC",
         "cultural",
         "side",
         "95576a98-a37c-4ea8-9af9-b368c1c01b8d",
         "2016-02-26T00:00:00.000+0000",
         "efe7d5be-e773-4161-bbd0-626f7050890d",
         "kclark@example.com",
         "image",
         "http://valdez.net/",
         "Channel3",
         2,
         2,
         "Nature relate free evening effort.",
         "4b021c0f-2ca0-4c33-b818-1a7f5afe73a5",
         "Channel5",
         "https://stevens.net/",
         "Girl present gun reality.",
         2,
         "3f6720d5-7fbd-491e-8fb5-b85a4f68f793",
         2,
         2,
         2,
         "2013-03-15T00:00:00.000+0000",
         "4972",
         "USNS Murphy\nFPO AE 10455"
        ],
        [
         4,
         3,
         "48",
         "day",
         3,
         "https://www.gomez.com/",
         "Carr Group",
         "Brand3",
         "LLC",
         "series",
         "step",
         "b3147328-add2-49dc-a862-e296e0cb1078",
         "2013-09-01T00:00:00.000+0000",
         "9fb05342-6adc-44c1-a43c-071df3418fa2",
         "smiller@example.org",
         "price",
         "https://www.white.org/",
         "Channel3",
         3,
         3,
         "Culture to join authority remember news produce different.",
         "4c6ad389-f4e3-4dd6-ac70-0dc09ea47fbd",
         "Channel4",
         "https://gonzalez.com/",
         "Event trip magazine central.",
         3,
         "054cbf4f-4eda-43d2-aa45-038bfcec4b7d",
         3,
         3,
         3,
         "2011-11-26T00:00:00.000+0000",
         "9356",
         "86796 Huynh Parks Apt. 524\nSouth Ian, AL 82794"
        ],
        [
         5,
         4,
         "70",
         "today",
         4,
         "https://www.morris.com/",
         "Barry Inc",
         "Brand4",
         "Inc",
         "any",
         "almost",
         "f3da3d71-2b5d-48fd-91dc-8db42bbe3b9d",
         "2018-05-29T00:00:00.000+0000",
         "ee1230ec-7008-41fe-a9af-5d233ff285b9",
         "sball@example.com",
         "community",
         "http://fernandez-drake.com/",
         "Channel5",
         4,
         4,
         "Item buy capital toward like idea laugh.",
         "8394197f-ffbd-4603-ad7d-728e6dc3bf37",
         "Channel1",
         "http://williams.com/",
         "Able such include activity cut when business.",
         4,
         "e80a0ba3-ac4c-4131-afe5-6f9214ea6b84",
         4,
         4,
         4,
         "2021-09-27T00:00:00.000+0000",
         "8973",
         "508 Samuel Knoll Suite 826\nChristianhaven, FM 49449"
        ],
        [
         6,
         5,
         "26",
         "drug",
         5,
         "http://conrad.com/",
         "Bishop Group",
         "Brand1",
         "Ltd",
         "nation",
         "will",
         "448f8d92-7a9c-42be-ac28-a8229078df35",
         "2013-02-20T00:00:00.000+0000",
         "b5baabf3-4692-4640-89b9-5c76de994a8f",
         "jcollins@example.org",
         "name",
         "http://www.henry.com/",
         "Channel1",
         5,
         5,
         "According on course country blood.",
         "04e1c331-1784-4b50-b0ce-d18b522b2e5f",
         "Channel3",
         "https://manning-bennett.com/",
         "By move yet movie best scene.",
         5,
         "41a6f2d6-399d-4ebf-bfce-3f5d80f31af2",
         5,
         5,
         5,
         "2018-05-01T00:00:00.000+0000",
         "7046",
         "11371 Schmidt Avenue\nEast Zacharyborough, WA 60625"
        ],
        [
         7,
         6,
         "83",
         "daughter",
         6,
         "http://www.ellis.com/",
         "Campos, Gordon and Lee",
         "Brand2",
         "Inc",
         "network",
         "special",
         "1e49b44e-64d6-484d-984e-ad4633c5a28b",
         "2011-08-05T00:00:00.000+0000",
         "421704cd-73b0-4711-96ff-f55e993b84ef",
         "cjackson@example.com",
         "even",
         "https://thomas-williams.com/",
         "Channel3",
         6,
         6,
         "Allow sound possible remain despite argue.",
         "b0dfe874-8587-4528-ab6b-95c8f03f90a0",
         "Channel2",
         "https://www.carr.net/",
         "Fight represent main really interesting resource.",
         6,
         "4531a741-07ba-437c-a25e-c671d4805956",
         6,
         6,
         6,
         "2022-06-12T00:00:00.000+0000",
         "4331",
         "48313 Thompson Point Suite 939\nSouth Steven, PA 52150"
        ],
        [
         8,
         7,
         "86",
         "pretty",
         7,
         "http://carrillo.com/",
         "Saunders Inc",
         "Brand5",
         "PLC",
         "imagine",
         "everything",
         "30d93e6e-e855-4b42-abdb-52b0bfa4c6ae",
         "2011-01-24T00:00:00.000+0000",
         "9a580044-b082-45e4-b366-c929f792ce95",
         "sandra66@example.com",
         "difficult",
         "http://www.henry.info/",
         "Channel4",
         7,
         7,
         "Spend I gas little peace medical happen.",
         "42e995ea-291e-4139-8fbc-ac298647cc11",
         "Channel2",
         "https://www.hodge.com/",
         "Power standard style leader home century.",
         7,
         "e120f065-8934-47c3-87d7-1447e2af87fd",
         7,
         7,
         7,
         "2018-07-07T00:00:00.000+0000",
         "8593",
         "5213 Morgan Grove Apt. 304\nAlexisberg, MI 44729"
        ],
        [
         9,
         8,
         "93",
         "stop",
         8,
         "https://alvarado-brown.com/",
         "Kennedy PLC",
         "Brand5",
         "PLC",
         "choose",
         "early",
         "7d220c46-a918-4e48-8396-ea853dfd94c7",
         "2013-01-23T00:00:00.000+0000",
         "ef3327ef-7ecc-4cd9-a252-9e00bd683d30",
         "brownwilliam@example.net",
         "push",
         "https://www.anthony.com/",
         "Channel4",
         8,
         8,
         "Science career small in spring will mention.",
         "5857430e-7028-4a38-9efa-c9011cf0198b",
         "Channel3",
         "http://mcclain.info/",
         "Class establish real professional play action.",
         8,
         "8b0ebbc6-adaa-4fea-92c0-76a8c842564e",
         8,
         8,
         8,
         "2021-09-30T00:00:00.000+0000",
         "3964",
         "624 Rodriguez Terrace\nJenniferfurt, IL 81138"
        ],
        [
         10,
         9,
         "107",
         "small",
         9,
         "http://rangel-brown.org/",
         "Mathews PLC",
         "Brand4",
         "Group",
         "shoulder",
         "east",
         "43a8de8d-f7e4-461d-bba7-0d77420da760",
         "2023-04-03T00:00:00.000+0000",
         "17f8d11d-71c1-4d7a-9e83-fc83740f488a",
         "ncastaneda@example.net",
         "soldier",
         "http://www.collier.com/",
         "Channel4",
         9,
         9,
         "Power protect later experience several capital.",
         "4d71991c-d729-4106-87c9-bcaadae18ec3",
         "Channel3",
         "https://www.martin-cain.org/",
         "Enter save speak career.",
         9,
         "1910a525-3444-4351-a784-447df2e89a65",
         9,
         9,
         9,
         "2023-03-11T00:00:00.000+0000",
         "5019",
         "USNS Mcclain\nFPO AE 04824"
        ]
       ],
       "datasetInfos": [],
       "dbfsResultPath": null,
       "isJsonSchema": true,
       "metadata": {},
       "overflow": false,
       "plotOptions": {
        "customPlotOptions": {},
        "displayType": "table",
        "pivotAggregation": null,
        "pivotColumns": null,
        "xColumns": null,
        "yColumns": null
       },
       "removedWidgets": [],
       "schema": [
        {
         "metadata": "{}",
         "name": "_id",
         "type": "\"integer\""
        },
        {
         "metadata": "{}",
         "name": "Customer_id",
         "type": "\"integer\""
        },
        {
         "metadata": "{}",
         "name": "location_id",
         "type": "\"string\""
        },
        {
         "metadata": "{}",
         "name": "shopity_user_rd",
         "type": "\"string\""
        },
        {
         "metadata": "{}",
         "name": "Channel_id",
         "type": "\"integer\""
        },
        {
         "metadata": "{}",
         "name": "abandoned_url",
         "type": "\"string\""
        },
        {
         "metadata": "{}",
         "name": "Company",
         "type": "\"string\""
        },
        {
         "metadata": "{}",
         "name": "Brand",
         "type": "\"string\""
        },
        {
         "metadata": "{}",
         "name": "Sub_brand",
         "type": "\"string\""
        },
        {
         "metadata": "{}",
         "name": "Category",
         "type": "\"string\""
        },
        {
         "metadata": "{}",
         "name": "Sub_Category",
         "type": "\"string\""
        },
        {
         "metadata": "{}",
         "name": "Cart_token",
         "type": "\"string\""
        },
        {
         "metadata": "{}",
         "name": "Closed_at",
         "type": "\"timestamp\""
        },
        {
         "metadata": "{}",
         "name": "device_id",
         "type": "\"string\""
        },
        {
         "metadata": "{}",
         "name": "email_id",
         "type": "\"string\""
        },
        {
         "metadata": "{}",
         "name": "gateway",
         "type": "\"string\""
        },
        {
         "metadata": "{}",
         "name": "launching_site_url",
         "type": "\"string\""
        },
        {
         "metadata": "{}",
         "name": "Source",
         "type": "\"string\""
        },
        {
         "metadata": "{}",
         "name": "Shipping_rate_id",
         "type": "\"integer\""
        },
        {
         "metadata": "{}",
         "name": "Shipping_rate_Price",
         "type": "\"integer\""
        },
        {
         "metadata": "{}",
         "name": "Shipping_rate_title",
         "type": "\"string\""
        },
        {
         "metadata": "{}",
         "name": "source_identifier",
         "type": "\"string\""
        },
        {
         "metadata": "{}",
         "name": "source_name",
         "type": "\"string\""
        },
        {
         "metadata": "{}",
         "name": "Source_url",
         "type": "\"string\""
        },
        {
         "metadata": "{}",
         "name": "Shipping_line",
         "type": "\"string\""
        },
        {
         "metadata": "{}",
         "name": "Taxes_included",
         "type": "\"integer\""
        },
        {
         "metadata": "{}",
         "name": "Token",
         "type": "\"string\""
        },
        {
         "metadata": "{}",
         "name": "Total_discount",
         "type": "\"integer\""
        },
        {
         "metadata": "{}",
         "name": "total_line_item_price",
         "type": "\"integer\""
        },
        {
         "metadata": "{}",
         "name": "total_price",
         "type": "\"integer\""
        },
        {
         "metadata": "{}",
         "name": "Updated_at",
         "type": "\"timestamp\""
        },
        {
         "metadata": "{}",
         "name": "applied_discount",
         "type": "\"string\""
        },
        {
         "metadata": "{}",
         "name": "Shipping_address",
         "type": "\"string\""
        }
       ],
       "type": "table"
      }
     },
     "output_type": "display_data"
    }
   ],
   "source": [
    "from dbldatagen import DataGenerator, PyfuncText, DateRange\n",
    "from faker import Faker\n",
    "import random\n",
    "from pyspark.sql import SparkSession\n",
    "from pyspark.sql.types import StructType, StructField, StringType, TimestampType, IntegerType\n",
    "\n",
    "# Create a SparkSession\n",
    "spark = SparkSession.builder.appName(\"DataGeneration\").getOrCreate()\n",
    "\n",
    "# Define lists for certain columns\n",
    "brand_values = [\"Brand1\", \"Brand2\", \"Brand3\", \"Brand4\", \"Brand5\"]\n",
    "courier_company_values = [\"CourierCo1\", \"CourierCo2\", \"CourierCo3\", \"CourierCo4\", \"CourierCo5\"]\n",
    "channel_name_values = [\"Channel1\", \"Channel2\", \"Channel3\", \"Channel4\", \"Channel5\"]\n",
    "\n",
    "# Define the number of rows and partitions for data generation\n",
    "partitions_requested = 2\n",
    "data_rows = 10\n",
    "\n",
    "# Define the schema for the synthetic data\n",
    "schema = StructType([\n",
    "    StructField(\"_id\", IntegerType(), False),\n",
    "    StructField(\"Customer_id\", IntegerType(), True),\n",
    "    StructField(\"location_id\", StringType(), True),\n",
    "    StructField(\"shopity_user_rd\", StringType(), True),\n",
    "    StructField(\"Channel_id\", IntegerType(), True),\n",
    "    StructField(\"abandoned_url\", StringType(), True),\n",
    "    StructField(\"Company\", StringType(), True),\n",
    "    StructField(\"Brand\", StringType(), True),\n",
    "    StructField(\"Sub_brand\", StringType(), True),\n",
    "    StructField(\"Category\", StringType(), True),\n",
    "    StructField(\"Sub_Category\", StringType(), True),\n",
    "    StructField(\"Cart_token\", StringType(), True),\n",
    "    StructField(\"Closed_at\", TimestampType(), True),\n",
    "    StructField(\"device_id\", StringType(), True),\n",
    "    StructField(\"email_id\", StringType(), True),\n",
    "    StructField(\"gateway\", StringType(), True),\n",
    "    StructField(\"launching_site_url\", StringType(), True),\n",
    "    StructField(\"Source\", StringType(), True),\n",
    "    StructField(\"Shipping_rate_id\", IntegerType(), True),\n",
    "    StructField(\"Shipping_rate_Price\", IntegerType(), True),\n",
    "    StructField(\"Shipping_rate_title\", StringType(), True),\n",
    "    StructField(\"source_identifier\", StringType(), True),\n",
    "    StructField(\"source_name\", StringType(), True),\n",
    "    StructField(\"Source_url\", StringType(), True),\n",
    "    StructField(\"Shipping_line\", StringType(), True),\n",
    "    StructField(\"Taxes_included\", IntegerType(), True),\n",
    "    StructField(\"Token\", StringType(), True),\n",
    "    StructField(\"Total_discount\", IntegerType(), True),\n",
    "    StructField(\"total_line_item_price\", IntegerType(), True),\n",
    "    StructField(\"total_price\", IntegerType(), True),\n",
    "    StructField(\"Updated_at\", TimestampType(), True),\n",
    "    StructField(\"applied_discount\", StringType(), True),\n",
    "    StructField(\"Shipping_address\", StringType(), True),\n",
    "])\n",
    "\n",
    "# Create a DataGenerator for synthetic data generation\n",
    "shipping_data_generator = (\n",
    "    DataGenerator(spark, rows=data_rows, partitions=partitions_requested)\n",
    "    .withSchema(schema)\n",
    "    .withColumnSpec(\"_id\", minValue=1, maxValue=5000, step=1)\n",
    "    .withColumnSpec(\"Customer_id\", random=True, text=PyfuncText(lambda context, v: str(random.randint(1, 5))))\n",
    "    .withColumnSpec(\"location_id\", random=True, text=PyfuncText(lambda context, v: str(random.randint(10, 120))))\n",
    "    .withColumnSpec(\"shopity_user_rd\", text=PyfuncText(lambda context, v: Faker().word()))\n",
    "    .withColumnSpec(\"Channel_id\", random=True, text=PyfuncText(lambda context, v: str(random.randint(1, 5))))\n",
    "    .withColumnSpec(\"abandoned_url\", text=PyfuncText(lambda context, v: Faker().url()))\n",
    "    .withColumnSpec(\"Company\", text=PyfuncText(lambda context, v: Faker().company()))\n",
    "    .withColumnSpec(\"Brand\", text=PyfuncText(lambda context, v: random.choice(brand_values)))\n",
    "    .withColumnSpec(\"Sub_brand\", text=PyfuncText(lambda context, v: Faker().company_suffix()))\n",
    "    .withColumnSpec(\"Category\", text=PyfuncText(lambda context, v: Faker().word()))\n",
    "    .withColumnSpec(\"Sub_Category\", text=PyfuncText(lambda context, v: Faker().word()))\n",
    "    .withColumnSpec(\"Cart_token\", text=PyfuncText(lambda context, v: Faker().uuid4()))\n",
    "    .withColumnSpec(\"Closed_at\", \"timestamp\", data_range=DateRange(\"2010-01-01 00:00:00\", \"2023-12-31 23:59:59\", \"days=1\"), random=True)\n",
    "    .withColumnSpec(\"device_id\", text=PyfuncText(lambda context, v: Faker().uuid4()))\n",
    "    .withColumnSpec(\"email_id\", text=PyfuncText(lambda context, v: Faker().email()))\n",
    "    .withColumnSpec(\"gateway\", text=PyfuncText(lambda context, v: Faker().word()))\n",
    "    .withColumnSpec(\"launching_site_url\", text=PyfuncText(lambda context, v: Faker().url()))\n",
    "    .withColumnSpec(\"Source\", text=PyfuncText(lambda context, v: random.choice(channel_name_values)))\n",
    "    .withColumnSpec(\"Shipping_rate_id\", random=True, text=PyfuncText(lambda context, v: str(random.randint(1, 100))))\n",
    "    .withColumnSpec(\"Shipping_rate_Price\", random=True, text=PyfuncText(lambda context, v: str(random.randint(1, 1000))))\n",
    "    .withColumnSpec(\"Shipping_rate_title\", text=PyfuncText(lambda context, v: Faker().sentence()))\n",
    "    .withColumnSpec(\"source_identifier\", text=PyfuncText(lambda context, v: Faker().uuid4()))\n",
    "    .withColumnSpec(\"source_name\", text=PyfuncText(lambda context, v: random.choice(channel_name_values)))\n",
    "    .withColumnSpec(\"Source_url\", text=PyfuncText(lambda context, v: Faker().url()))\n",
    "    .withColumnSpec(\"Shipping_line\", text=PyfuncText(lambda context, v: Faker().sentence()))\n",
    "    .withColumnSpec(\"Taxes_included\", random=True, text=PyfuncText(lambda context, v: str(random.randint(0, 1))))\n",
    "    .withColumnSpec(\"Token\", text=PyfuncText(lambda context, v: Faker().uuid4()))\n",
    "    .withColumnSpec(\"Total_discount\", random=True, text=PyfuncText(lambda context, v: str(random.randint(0, 100))))\n",
    "    .withColumnSpec(\"total_line_item_price\", random=True, text=PyfuncText(lambda context, v: str(random.randint(10, 1000))))\n",
    "    .withColumnSpec(\"total_price\", random=True, text=PyfuncText(lambda context, v: str(random.randint(20, 10000))))\n",
    "    .withColumnSpec(\"Updated_at\", \"timestamp\", data_range=DateRange(\"2010-01-01 00:00:00\", \"2023-12-31 23:59:59\", \"days=1\"), random=True)\n",
    "    .withColumnSpec(\"applied_discount\", random=True, text=PyfuncText(lambda context, v: str(random.randint(10, 10000))))\n",
    "    .withColumnSpec(\"Shipping_address\", text=PyfuncText(lambda context, v: Faker().address()))\n",
    ")\n",
    "\n",
    "# Build the synthetic data DataFrame\n",
    "shipping_data = shipping_data_generator.build()\n",
    "\n",
    "# Display the first 10 rows of the generated data\n",
    "display(shipping_data.limit(10))\n"
   ]
  },
  {
   "cell_type": "code",
   "execution_count": 0,
   "metadata": {
    "application/vnd.databricks.v1+cell": {
     "cellMetadata": {
      "byteLimit": 2048000,
      "rowLimit": 10000
     },
     "inputWidgets": {},
     "nuid": "0e204a5c-08d6-45bb-a695-f6c9d04f7af6",
     "showTitle": false,
     "title": ""
    }
   },
   "outputs": [],
   "source": []
  }
 ],
 "metadata": {
  "application/vnd.databricks.v1+notebook": {
   "dashboards": [],
   "language": "python",
   "notebookMetadata": {
    "pythonIndentUnit": 4
   },
   "notebookName": "Abandoned Checkout",
   "widgets": {}
  }
 },
 "nbformat": 4,
 "nbformat_minor": 0
}
